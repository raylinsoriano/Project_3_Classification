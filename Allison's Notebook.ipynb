{
 "cells": [
  {
   "cell_type": "code",
   "execution_count": 1,
   "metadata": {},
   "outputs": [
    {
     "ename": "ModuleNotFoundError",
     "evalue": "No module named 'descartes'",
     "output_type": "error",
     "traceback": [
      "\u001b[0;31m---------------------------------------------------------------------------\u001b[0m",
      "\u001b[0;31mModuleNotFoundError\u001b[0m                       Traceback (most recent call last)",
      "\u001b[0;32m<ipython-input-1-4a8ecf62b05a>\u001b[0m in \u001b[0;36m<module>\u001b[0;34m\u001b[0m\n\u001b[1;32m     22\u001b[0m \u001b[0;32mfrom\u001b[0m \u001b[0mshapely\u001b[0m\u001b[0;34m.\u001b[0m\u001b[0mgeometry\u001b[0m \u001b[0;32mimport\u001b[0m \u001b[0mPoint\u001b[0m\u001b[0;34m,\u001b[0m \u001b[0mPolygon\u001b[0m\u001b[0;34m\u001b[0m\u001b[0;34m\u001b[0m\u001b[0m\n\u001b[1;32m     23\u001b[0m \u001b[0mget_ipython\u001b[0m\u001b[0;34m(\u001b[0m\u001b[0;34m)\u001b[0m\u001b[0;34m.\u001b[0m\u001b[0mrun_line_magic\u001b[0m\u001b[0;34m(\u001b[0m\u001b[0;34m'matplotlib'\u001b[0m\u001b[0;34m,\u001b[0m \u001b[0;34m'inline'\u001b[0m\u001b[0;34m)\u001b[0m\u001b[0;34m\u001b[0m\u001b[0;34m\u001b[0m\u001b[0m\n\u001b[0;32m---> 24\u001b[0;31m \u001b[0;32mimport\u001b[0m \u001b[0mdescartes\u001b[0m\u001b[0;34m\u001b[0m\u001b[0;34m\u001b[0m\u001b[0m\n\u001b[0m\u001b[1;32m     25\u001b[0m \u001b[0;34m\u001b[0m\u001b[0m\n\u001b[1;32m     26\u001b[0m \u001b[0;32mfrom\u001b[0m \u001b[0msklearn\u001b[0m\u001b[0;34m.\u001b[0m\u001b[0mmetrics\u001b[0m \u001b[0;32mimport\u001b[0m \u001b[0mconfusion_matrix\u001b[0m\u001b[0;34m,\u001b[0m \u001b[0mplot_confusion_matrix\u001b[0m\u001b[0;34m,\u001b[0m\u001b[0;31m\\\u001b[0m\u001b[0;34m\u001b[0m\u001b[0;34m\u001b[0m\u001b[0m\n",
      "\u001b[0;31mModuleNotFoundError\u001b[0m: No module named 'descartes'"
     ]
    }
   ],
   "source": [
    "import pandas as pd \n",
    "import numpy as np \n",
    "import csv  \n",
    "import matplotlib.pyplot as plt\n",
    "import seaborn as sns\n",
    "import datetime as datetime\n",
    "import datetime\n",
    "%matplotlib inline\n",
    "\n",
    "from sklearn.linear_model import LogisticRegression\n",
    "from sklearn.model_selection import train_test_split\n",
    "from sklearn.metrics import accuracy_score\n",
    "from sklearn.metrics import plot_confusion_matrix\n",
    "from sklearn.tree import DecisionTreeClassifier, plot_tree\n",
    "from sklearn.preprocessing import OneHotEncoder, StandardScaler\n",
    "from sklearn.metrics import confusion_matrix\n",
    "from sklearn.dummy import DummyClassifier\n",
    "from sklearn.model_selection import train_test_split, cross_val_score\n",
    "from sklearn.metrics import plot_roc_curve\n",
    "\n",
    "import geopandas as gpd\n",
    "from shapely.geometry import Point, Polygon\n",
    "%matplotlib inline\n",
    "import descartes\n",
    "\n",
    "from sklearn.metrics import confusion_matrix, plot_confusion_matrix,\\\n",
    "    precision_score, recall_score, accuracy_score, f1_score, log_loss,\\\n",
    "    roc_curve, roc_auc_score, classification_report"
   ]
  },
  {
   "cell_type": "code",
   "execution_count": 2,
   "metadata": {},
   "outputs": [],
   "source": [
    "df = pd.read_csv(\"Data/merged_df.csv\")"
   ]
  },
  {
   "cell_type": "code",
   "execution_count": 3,
   "metadata": {},
   "outputs": [
    {
     "name": "stdout",
     "output_type": "stream",
     "text": [
      "<class 'pandas.core.frame.DataFrame'>\n",
      "RangeIndex: 558254 entries, 0 to 558253\n",
      "Data columns (total 31 columns):\n",
      " #   Column                   Non-Null Count   Dtype  \n",
      "---  ------                   --------------   -----  \n",
      " 0   Unnamed: 0               558254 non-null  int64  \n",
      " 1   CRASH_RECORD_ID          558254 non-null  object \n",
      " 2   CRASH_DATE               558254 non-null  object \n",
      " 3   POSTED_SPEED_LIMIT       558254 non-null  int64  \n",
      " 4   DEVICE_CONDITION         558254 non-null  object \n",
      " 5   WEATHER_CONDITION        558254 non-null  object \n",
      " 6   LIGHTING_CONDITION       558254 non-null  object \n",
      " 7   FIRST_CRASH_TYPE         558254 non-null  object \n",
      " 8   ROADWAY_SURFACE_COND     558254 non-null  object \n",
      " 9   ROAD_DEFECT              558254 non-null  object \n",
      " 10  CRASH_TYPE               558254 non-null  object \n",
      " 11  DAMAGE                   558254 non-null  object \n",
      " 12  PRIM_CONTRIBUTORY_CAUSE  558254 non-null  object \n",
      " 13  SEC_CONTRIBUTORY_CAUSE   558254 non-null  object \n",
      " 14  MOST_SEVERE_INJURY       558254 non-null  object \n",
      " 15  CRASH_HOUR               558254 non-null  int64  \n",
      " 16  CRASH_DAY_OF_WEEK        558254 non-null  int64  \n",
      " 17  CRASH_MONTH              558254 non-null  int64  \n",
      " 18  LATITUDE                 554046 non-null  float64\n",
      " 19  LONGITUDE                554046 non-null  float64\n",
      " 20  PERSON_ID                558254 non-null  object \n",
      " 21  PERSON_TYPE              558254 non-null  object \n",
      " 22  SEX                      548823 non-null  object \n",
      " 23  SAFETY_EQUIPMENT         556047 non-null  object \n",
      " 24  AIRBAG_DEPLOYED          545946 non-null  object \n",
      " 25  EJECTION                 549909 non-null  object \n",
      " 26  VEHICLE_DEFECT           543364 non-null  object \n",
      " 27  VEHICLE_TYPE             543364 non-null  object \n",
      " 28  VEHICLE_USE              543364 non-null  object \n",
      " 29  MANEUVER                 543364 non-null  object \n",
      " 30  FIRST_CONTACT_POINT      537722 non-null  object \n",
      "dtypes: float64(2), int64(5), object(24)\n",
      "memory usage: 132.0+ MB\n"
     ]
    }
   ],
   "source": [
    "df.info()"
   ]
  },
  {
   "cell_type": "code",
   "execution_count": 4,
   "metadata": {},
   "outputs": [
    {
     "data": {
      "text/plain": [
       "0        2019-07-10\n",
       "1        2019-07-10\n",
       "2        2019-07-10\n",
       "3        2019-07-10\n",
       "4        2019-07-10\n",
       "            ...    \n",
       "558249   2019-06-19\n",
       "558250   2019-06-19\n",
       "558251   2019-06-19\n",
       "558252   2019-06-19\n",
       "558253   2019-07-05\n",
       "Name: CRASH_DATE, Length: 558254, dtype: datetime64[ns]"
      ]
     },
     "execution_count": 4,
     "metadata": {},
     "output_type": "execute_result"
    }
   ],
   "source": [
    "df['CRASH_DATE'] = df['CRASH_DATE'].map(lambda x: datetime.datetime.strptime(x[0:10], \"%Y-%m-%d\"))\n",
    "df['CRASH_DATE']"
   ]
  },
  {
   "cell_type": "code",
   "execution_count": 5,
   "metadata": {},
   "outputs": [
    {
     "data": {
      "text/plain": [
       "0"
      ]
     },
     "execution_count": 5,
     "metadata": {},
     "output_type": "execute_result"
    }
   ],
   "source": [
    "df.duplicated().sum()"
   ]
  },
  {
   "cell_type": "code",
   "execution_count": 6,
   "metadata": {},
   "outputs": [
    {
     "data": {
      "text/plain": [
       "Unnamed: 0                     0\n",
       "CRASH_RECORD_ID                0\n",
       "CRASH_DATE                     0\n",
       "POSTED_SPEED_LIMIT             0\n",
       "DEVICE_CONDITION               0\n",
       "WEATHER_CONDITION              0\n",
       "LIGHTING_CONDITION             0\n",
       "FIRST_CRASH_TYPE               0\n",
       "ROADWAY_SURFACE_COND           0\n",
       "ROAD_DEFECT                    0\n",
       "CRASH_TYPE                     0\n",
       "DAMAGE                         0\n",
       "PRIM_CONTRIBUTORY_CAUSE        0\n",
       "SEC_CONTRIBUTORY_CAUSE         0\n",
       "MOST_SEVERE_INJURY             0\n",
       "CRASH_HOUR                     0\n",
       "CRASH_DAY_OF_WEEK              0\n",
       "CRASH_MONTH                    0\n",
       "LATITUDE                    4208\n",
       "LONGITUDE                   4208\n",
       "PERSON_ID                      0\n",
       "PERSON_TYPE                    0\n",
       "SEX                         9431\n",
       "SAFETY_EQUIPMENT            2207\n",
       "AIRBAG_DEPLOYED            12308\n",
       "EJECTION                    8345\n",
       "VEHICLE_DEFECT             14890\n",
       "VEHICLE_TYPE               14890\n",
       "VEHICLE_USE                14890\n",
       "MANEUVER                   14890\n",
       "FIRST_CONTACT_POINT        20532\n",
       "dtype: int64"
      ]
     },
     "execution_count": 6,
     "metadata": {},
     "output_type": "execute_result"
    }
   ],
   "source": [
    "df.isnull().sum()"
   ]
  },
  {
   "cell_type": "code",
   "execution_count": 7,
   "metadata": {},
   "outputs": [
    {
     "data": {
      "text/plain": [
       "0         mild\n",
       "1         mild\n",
       "2         mild\n",
       "3         mild\n",
       "4         mild\n",
       "          ... \n",
       "558249    mild\n",
       "558250    mild\n",
       "558251    mild\n",
       "558252    mild\n",
       "558253    mild\n",
       "Name: MOST_SEVERE_INJURY, Length: 558254, dtype: object"
      ]
     },
     "execution_count": 7,
     "metadata": {},
     "output_type": "execute_result"
    }
   ],
   "source": [
    "df['MOST_SEVERE_INJURY'] = df['MOST_SEVERE_INJURY'].map({'NO INDICATION OF INJURY': 'mild', \n",
    "                                                                         'REPORTED, NOT EVIDENT': 'mild',\n",
    "                                                                         'NONINCAPACITATING INJURY': 'medium',\n",
    "                                                                         'INCAPACITATING INJURY': 'severe',\n",
    "                                                                         'FATAL': 'severe'})\n",
    "df['MOST_SEVERE_INJURY']"
   ]
  },
  {
   "cell_type": "code",
   "execution_count": 12,
   "metadata": {},
   "outputs": [
    {
     "name": "stdout",
     "output_type": "stream",
     "text": [
      "ls: :: No such file or directory\r\n",
      "Data:\r\n",
      "1,2,3,4\r\n",
      "Traffic_Crashes_-_Crashes.csv\r\n",
      "Traffic_Crashes_-_People.csv\r\n",
      "Traffic_Crashes_-_Vehicles.csv\r\n",
      "geo_export_f6ee29e8-bda0-40d6-9887-d12c071d9bf7.dbf\r\n",
      "geo_export_f6ee29e8-bda0-40d6-9887-d12c071d9bf7.prj\r\n",
      "geo_export_f6ee29e8-bda0-40d6-9887-d12c071d9bf7.shp\r\n",
      "geo_export_f6ee29e8-bda0-40d6-9887-d12c071d9bf7.shx\r\n",
      "merged_df.csv\r\n",
      "test.cvs\r\n"
     ]
    }
   ],
   "source": [
    "ls: Data"
   ]
  },
  {
   "cell_type": "code",
   "execution_count": 13,
   "metadata": {},
   "outputs": [
    {
     "data": {
      "text/plain": [
       "<AxesSubplot:>"
      ]
     },
     "execution_count": 13,
     "metadata": {},
     "output_type": "execute_result"
    },
    {
     "data": {
      "image/png": "[encoded data removed]",
      "text/plain": [
       "<Figure size 1080x1080 with 1 Axes>"
      ]
     },
     "metadata": {
      "needs_background": "light"
     },
     "output_type": "display_data"
    }
   ],
   "source": [
    "street_map = gpd.read_file('Data/geo_export_f6ee29e8-bda0-40d6-9887-d12c071d9bf7.shp')\n",
    "fig,ax = plt.subplots(figsize = (15,15))\n",
    "street_map.plot(ax=ax)"
   ]
  },
  {
   "cell_type": "code",
   "execution_count": 14,
   "metadata": {},
   "outputs": [
    {
     "data": {
      "text/plain": [
       "[<shapely.geometry.point.Point at 0x7faed58a7760>,\n",
       " <shapely.geometry.point.Point at 0x7faed58a79d0>,\n",
       " <shapely.geometry.point.Point at 0x7faed58a7a30>]"
      ]
     },
     "execution_count": 14,
     "metadata": {},
     "output_type": "execute_result"
    }
   ],
   "source": [
    "crs = {'init': 'epsg:4326'}\n",
    "geo = [Point(xy) for xy in zip( df[\"LONGITUDE\"], df[\"LATITUDE\"])]\n",
    "geo[:3]"
   ]
  },
  {
   "cell_type": "code",
   "execution_count": 15,
   "metadata": {},
   "outputs": [
    {
     "name": "stderr",
     "output_type": "stream",
     "text": [
      "/opt/anaconda3/lib/python3.8/site-packages/pyproj/crs/crs.py:68: FutureWarning: '+init=<authority>:<code>' syntax is deprecated. '<authority>:<code>' is the preferred initialization method. When making the change, be mindful of axis order changes: https://pyproj4.github.io/pyproj/stable/gotchas.html#axis-order-changes-in-proj-6\n",
      "  return _prepare_from_string(\" \".join(pjargs))\n"
     ]
    },
    {
     "data": {
      "text/html": [
       "<div>\n",
       "<style scoped>\n",
       "    .dataframe tbody tr th:only-of-type {\n",
       "        vertical-align: middle;\n",
       "    }\n",
       "\n",
       "    .dataframe tbody tr th {\n",
       "        vertical-align: top;\n",
       "    }\n",
       "\n",
       "    .dataframe thead th {\n",
       "        text-align: right;\n",
       "    }\n",
       "</style>\n",
       "<table border=\"1\" class=\"dataframe\">\n",
       "  <thead>\n",
       "    <tr style=\"text-align: right;\">\n",
       "      <th></th>\n",
       "      <th>Unnamed: 0</th>\n",
       "      <th>CRASH_RECORD_ID</th>\n",
       "      <th>CRASH_DATE</th>\n",
       "      <th>POSTED_SPEED_LIMIT</th>\n",
       "      <th>DEVICE_CONDITION</th>\n",
       "      <th>WEATHER_CONDITION</th>\n",
       "      <th>LIGHTING_CONDITION</th>\n",
       "      <th>FIRST_CRASH_TYPE</th>\n",
       "      <th>ROADWAY_SURFACE_COND</th>\n",
       "      <th>ROAD_DEFECT</th>\n",
       "      <th>...</th>\n",
       "      <th>SEX</th>\n",
       "      <th>SAFETY_EQUIPMENT</th>\n",
       "      <th>AIRBAG_DEPLOYED</th>\n",
       "      <th>EJECTION</th>\n",
       "      <th>VEHICLE_DEFECT</th>\n",
       "      <th>VEHICLE_TYPE</th>\n",
       "      <th>VEHICLE_USE</th>\n",
       "      <th>MANEUVER</th>\n",
       "      <th>FIRST_CONTACT_POINT</th>\n",
       "      <th>geometry</th>\n",
       "    </tr>\n",
       "  </thead>\n",
       "  <tbody>\n",
       "    <tr>\n",
       "      <th>0</th>\n",
       "      <td>0</td>\n",
       "      <td>4fd0a3e0897b3335b94cd8d5b2d2b350eb691add56c62d...</td>\n",
       "      <td>2019-07-10</td>\n",
       "      <td>35</td>\n",
       "      <td>NO CONTROLS</td>\n",
       "      <td>CLEAR</td>\n",
       "      <td>DAYLIGHT</td>\n",
       "      <td>TURNING</td>\n",
       "      <td>DRY</td>\n",
       "      <td>NO DEFECTS</td>\n",
       "      <td>...</td>\n",
       "      <td>M</td>\n",
       "      <td>USAGE UNKNOWN</td>\n",
       "      <td>NOT APPLICABLE</td>\n",
       "      <td>NONE</td>\n",
       "      <td>UNKNOWN</td>\n",
       "      <td>PASSENGER</td>\n",
       "      <td>PERSONAL</td>\n",
       "      <td>BACKING</td>\n",
       "      <td>REAR</td>\n",
       "      <td>POINT (-87.77329 41.91966)</td>\n",
       "    </tr>\n",
       "    <tr>\n",
       "      <th>1</th>\n",
       "      <td>1</td>\n",
       "      <td>4fd0a3e0897b3335b94cd8d5b2d2b350eb691add56c62d...</td>\n",
       "      <td>2019-07-10</td>\n",
       "      <td>35</td>\n",
       "      <td>NO CONTROLS</td>\n",
       "      <td>CLEAR</td>\n",
       "      <td>DAYLIGHT</td>\n",
       "      <td>TURNING</td>\n",
       "      <td>DRY</td>\n",
       "      <td>NO DEFECTS</td>\n",
       "      <td>...</td>\n",
       "      <td>M</td>\n",
       "      <td>USAGE UNKNOWN</td>\n",
       "      <td>NOT APPLICABLE</td>\n",
       "      <td>NONE</td>\n",
       "      <td>UNKNOWN</td>\n",
       "      <td>PASSENGER</td>\n",
       "      <td>PERSONAL</td>\n",
       "      <td>TURNING RIGHT</td>\n",
       "      <td>FRONT</td>\n",
       "      <td>POINT (-87.77329 41.91966)</td>\n",
       "    </tr>\n",
       "    <tr>\n",
       "      <th>2</th>\n",
       "      <td>2</td>\n",
       "      <td>4fd0a3e0897b3335b94cd8d5b2d2b350eb691add56c62d...</td>\n",
       "      <td>2019-07-10</td>\n",
       "      <td>35</td>\n",
       "      <td>NO CONTROLS</td>\n",
       "      <td>CLEAR</td>\n",
       "      <td>DAYLIGHT</td>\n",
       "      <td>TURNING</td>\n",
       "      <td>DRY</td>\n",
       "      <td>NO DEFECTS</td>\n",
       "      <td>...</td>\n",
       "      <td>M</td>\n",
       "      <td>USAGE UNKNOWN</td>\n",
       "      <td>NOT APPLICABLE</td>\n",
       "      <td>NONE</td>\n",
       "      <td>UNKNOWN</td>\n",
       "      <td>PASSENGER</td>\n",
       "      <td>PERSONAL</td>\n",
       "      <td>BACKING</td>\n",
       "      <td>REAR</td>\n",
       "      <td>POINT (-87.77329 41.91966)</td>\n",
       "    </tr>\n",
       "    <tr>\n",
       "      <th>3</th>\n",
       "      <td>3</td>\n",
       "      <td>4fd0a3e0897b3335b94cd8d5b2d2b350eb691add56c62d...</td>\n",
       "      <td>2019-07-10</td>\n",
       "      <td>35</td>\n",
       "      <td>NO CONTROLS</td>\n",
       "      <td>CLEAR</td>\n",
       "      <td>DAYLIGHT</td>\n",
       "      <td>TURNING</td>\n",
       "      <td>DRY</td>\n",
       "      <td>NO DEFECTS</td>\n",
       "      <td>...</td>\n",
       "      <td>M</td>\n",
       "      <td>USAGE UNKNOWN</td>\n",
       "      <td>NOT APPLICABLE</td>\n",
       "      <td>NONE</td>\n",
       "      <td>UNKNOWN</td>\n",
       "      <td>PASSENGER</td>\n",
       "      <td>PERSONAL</td>\n",
       "      <td>TURNING RIGHT</td>\n",
       "      <td>FRONT</td>\n",
       "      <td>POINT (-87.77329 41.91966)</td>\n",
       "    </tr>\n",
       "    <tr>\n",
       "      <th>4</th>\n",
       "      <td>4</td>\n",
       "      <td>4fd0a3e0897b3335b94cd8d5b2d2b350eb691add56c62d...</td>\n",
       "      <td>2019-07-10</td>\n",
       "      <td>35</td>\n",
       "      <td>NO CONTROLS</td>\n",
       "      <td>CLEAR</td>\n",
       "      <td>DAYLIGHT</td>\n",
       "      <td>TURNING</td>\n",
       "      <td>DRY</td>\n",
       "      <td>NO DEFECTS</td>\n",
       "      <td>...</td>\n",
       "      <td>M</td>\n",
       "      <td>USAGE UNKNOWN</td>\n",
       "      <td>NOT APPLICABLE</td>\n",
       "      <td>NONE</td>\n",
       "      <td>UNKNOWN</td>\n",
       "      <td>PASSENGER</td>\n",
       "      <td>PERSONAL</td>\n",
       "      <td>BACKING</td>\n",
       "      <td>REAR</td>\n",
       "      <td>POINT (-87.77329 41.91966)</td>\n",
       "    </tr>\n",
       "    <tr>\n",
       "      <th>...</th>\n",
       "      <td>...</td>\n",
       "      <td>...</td>\n",
       "      <td>...</td>\n",
       "      <td>...</td>\n",
       "      <td>...</td>\n",
       "      <td>...</td>\n",
       "      <td>...</td>\n",
       "      <td>...</td>\n",
       "      <td>...</td>\n",
       "      <td>...</td>\n",
       "      <td>...</td>\n",
       "      <td>...</td>\n",
       "      <td>...</td>\n",
       "      <td>...</td>\n",
       "      <td>...</td>\n",
       "      <td>...</td>\n",
       "      <td>...</td>\n",
       "      <td>...</td>\n",
       "      <td>...</td>\n",
       "      <td>...</td>\n",
       "      <td>...</td>\n",
       "    </tr>\n",
       "    <tr>\n",
       "      <th>558249</th>\n",
       "      <td>2528207</td>\n",
       "      <td>ffff27f5ef6d4465bf2e6da46c1d07ac6f017c6ca1f477...</td>\n",
       "      <td>2019-06-19</td>\n",
       "      <td>25</td>\n",
       "      <td>FUNCTIONING PROPERLY</td>\n",
       "      <td>RAIN</td>\n",
       "      <td>DARKNESS, LIGHTED ROAD</td>\n",
       "      <td>TURNING</td>\n",
       "      <td>WET</td>\n",
       "      <td>NO DEFECTS</td>\n",
       "      <td>...</td>\n",
       "      <td>M</td>\n",
       "      <td>USAGE UNKNOWN</td>\n",
       "      <td>DEPLOYMENT UNKNOWN</td>\n",
       "      <td>NONE</td>\n",
       "      <td>UNKNOWN</td>\n",
       "      <td>PICKUP</td>\n",
       "      <td>UNKNOWN/NA</td>\n",
       "      <td>TURNING RIGHT</td>\n",
       "      <td>REAR-LEFT</td>\n",
       "      <td>POINT (-87.70523 41.85817)</td>\n",
       "    </tr>\n",
       "    <tr>\n",
       "      <th>558250</th>\n",
       "      <td>2528208</td>\n",
       "      <td>ffff27f5ef6d4465bf2e6da46c1d07ac6f017c6ca1f477...</td>\n",
       "      <td>2019-06-19</td>\n",
       "      <td>25</td>\n",
       "      <td>FUNCTIONING PROPERLY</td>\n",
       "      <td>RAIN</td>\n",
       "      <td>DARKNESS, LIGHTED ROAD</td>\n",
       "      <td>TURNING</td>\n",
       "      <td>WET</td>\n",
       "      <td>NO DEFECTS</td>\n",
       "      <td>...</td>\n",
       "      <td>M</td>\n",
       "      <td>USAGE UNKNOWN</td>\n",
       "      <td>DEPLOYMENT UNKNOWN</td>\n",
       "      <td>NONE</td>\n",
       "      <td>UNKNOWN</td>\n",
       "      <td>UNKNOWN/NA</td>\n",
       "      <td>PERSONAL</td>\n",
       "      <td>TURNING LEFT</td>\n",
       "      <td>SIDE-RIGHT</td>\n",
       "      <td>POINT (-87.70523 41.85817)</td>\n",
       "    </tr>\n",
       "    <tr>\n",
       "      <th>558251</th>\n",
       "      <td>2528209</td>\n",
       "      <td>ffff27f5ef6d4465bf2e6da46c1d07ac6f017c6ca1f477...</td>\n",
       "      <td>2019-06-19</td>\n",
       "      <td>25</td>\n",
       "      <td>FUNCTIONING PROPERLY</td>\n",
       "      <td>RAIN</td>\n",
       "      <td>DARKNESS, LIGHTED ROAD</td>\n",
       "      <td>TURNING</td>\n",
       "      <td>WET</td>\n",
       "      <td>NO DEFECTS</td>\n",
       "      <td>...</td>\n",
       "      <td>F</td>\n",
       "      <td>SAFETY BELT USED</td>\n",
       "      <td>DID NOT DEPLOY</td>\n",
       "      <td>NONE</td>\n",
       "      <td>UNKNOWN</td>\n",
       "      <td>PICKUP</td>\n",
       "      <td>UNKNOWN/NA</td>\n",
       "      <td>TURNING RIGHT</td>\n",
       "      <td>REAR-LEFT</td>\n",
       "      <td>POINT (-87.70523 41.85817)</td>\n",
       "    </tr>\n",
       "    <tr>\n",
       "      <th>558252</th>\n",
       "      <td>2528210</td>\n",
       "      <td>ffff27f5ef6d4465bf2e6da46c1d07ac6f017c6ca1f477...</td>\n",
       "      <td>2019-06-19</td>\n",
       "      <td>25</td>\n",
       "      <td>FUNCTIONING PROPERLY</td>\n",
       "      <td>RAIN</td>\n",
       "      <td>DARKNESS, LIGHTED ROAD</td>\n",
       "      <td>TURNING</td>\n",
       "      <td>WET</td>\n",
       "      <td>NO DEFECTS</td>\n",
       "      <td>...</td>\n",
       "      <td>F</td>\n",
       "      <td>SAFETY BELT USED</td>\n",
       "      <td>DID NOT DEPLOY</td>\n",
       "      <td>NONE</td>\n",
       "      <td>UNKNOWN</td>\n",
       "      <td>UNKNOWN/NA</td>\n",
       "      <td>PERSONAL</td>\n",
       "      <td>TURNING LEFT</td>\n",
       "      <td>SIDE-RIGHT</td>\n",
       "      <td>POINT (-87.70523 41.85817)</td>\n",
       "    </tr>\n",
       "    <tr>\n",
       "      <th>558253</th>\n",
       "      <td>2528233</td>\n",
       "      <td>ffffb99bbc13fa1949cca5569e2ca38e3b314e4f444e0d...</td>\n",
       "      <td>2019-07-05</td>\n",
       "      <td>30</td>\n",
       "      <td>NO CONTROLS</td>\n",
       "      <td>CLEAR</td>\n",
       "      <td>DAYLIGHT</td>\n",
       "      <td>OTHER OBJECT</td>\n",
       "      <td>DRY</td>\n",
       "      <td>NO DEFECTS</td>\n",
       "      <td>...</td>\n",
       "      <td>M</td>\n",
       "      <td>SAFETY BELT USED</td>\n",
       "      <td>DID NOT DEPLOY</td>\n",
       "      <td>NONE</td>\n",
       "      <td>NONE</td>\n",
       "      <td>SPORT UTILITY VEHICLE (SUV)</td>\n",
       "      <td>PERSONAL</td>\n",
       "      <td>OTHER</td>\n",
       "      <td>SIDE-RIGHT</td>\n",
       "      <td>POINT (-87.68725 41.97581)</td>\n",
       "    </tr>\n",
       "  </tbody>\n",
       "</table>\n",
       "<p>558216 rows × 32 columns</p>\n",
       "</div>"
      ],
      "text/plain": [
       "        Unnamed: 0                                    CRASH_RECORD_ID  \\\n",
       "0                0  4fd0a3e0897b3335b94cd8d5b2d2b350eb691add56c62d...   \n",
       "1                1  4fd0a3e0897b3335b94cd8d5b2d2b350eb691add56c62d...   \n",
       "2                2  4fd0a3e0897b3335b94cd8d5b2d2b350eb691add56c62d...   \n",
       "3                3  4fd0a3e0897b3335b94cd8d5b2d2b350eb691add56c62d...   \n",
       "4                4  4fd0a3e0897b3335b94cd8d5b2d2b350eb691add56c62d...   \n",
       "...            ...                                                ...   \n",
       "558249     2528207  ffff27f5ef6d4465bf2e6da46c1d07ac6f017c6ca1f477...   \n",
       "558250     2528208  ffff27f5ef6d4465bf2e6da46c1d07ac6f017c6ca1f477...   \n",
       "558251     2528209  ffff27f5ef6d4465bf2e6da46c1d07ac6f017c6ca1f477...   \n",
       "558252     2528210  ffff27f5ef6d4465bf2e6da46c1d07ac6f017c6ca1f477...   \n",
       "558253     2528233  ffffb99bbc13fa1949cca5569e2ca38e3b314e4f444e0d...   \n",
       "\n",
       "       CRASH_DATE  POSTED_SPEED_LIMIT      DEVICE_CONDITION WEATHER_CONDITION  \\\n",
       "0      2019-07-10                  35           NO CONTROLS             CLEAR   \n",
       "1      2019-07-10                  35           NO CONTROLS             CLEAR   \n",
       "2      2019-07-10                  35           NO CONTROLS             CLEAR   \n",
       "3      2019-07-10                  35           NO CONTROLS             CLEAR   \n",
       "4      2019-07-10                  35           NO CONTROLS             CLEAR   \n",
       "...           ...                 ...                   ...               ...   \n",
       "558249 2019-06-19                  25  FUNCTIONING PROPERLY              RAIN   \n",
       "558250 2019-06-19                  25  FUNCTIONING PROPERLY              RAIN   \n",
       "558251 2019-06-19                  25  FUNCTIONING PROPERLY              RAIN   \n",
       "558252 2019-06-19                  25  FUNCTIONING PROPERLY              RAIN   \n",
       "558253 2019-07-05                  30           NO CONTROLS             CLEAR   \n",
       "\n",
       "            LIGHTING_CONDITION FIRST_CRASH_TYPE ROADWAY_SURFACE_COND  \\\n",
       "0                     DAYLIGHT          TURNING                  DRY   \n",
       "1                     DAYLIGHT          TURNING                  DRY   \n",
       "2                     DAYLIGHT          TURNING                  DRY   \n",
       "3                     DAYLIGHT          TURNING                  DRY   \n",
       "4                     DAYLIGHT          TURNING                  DRY   \n",
       "...                        ...              ...                  ...   \n",
       "558249  DARKNESS, LIGHTED ROAD          TURNING                  WET   \n",
       "558250  DARKNESS, LIGHTED ROAD          TURNING                  WET   \n",
       "558251  DARKNESS, LIGHTED ROAD          TURNING                  WET   \n",
       "558252  DARKNESS, LIGHTED ROAD          TURNING                  WET   \n",
       "558253                DAYLIGHT     OTHER OBJECT                  DRY   \n",
       "\n",
       "       ROAD_DEFECT  ... SEX  SAFETY_EQUIPMENT     AIRBAG_DEPLOYED EJECTION  \\\n",
       "0       NO DEFECTS  ...   M     USAGE UNKNOWN      NOT APPLICABLE     NONE   \n",
       "1       NO DEFECTS  ...   M     USAGE UNKNOWN      NOT APPLICABLE     NONE   \n",
       "2       NO DEFECTS  ...   M     USAGE UNKNOWN      NOT APPLICABLE     NONE   \n",
       "3       NO DEFECTS  ...   M     USAGE UNKNOWN      NOT APPLICABLE     NONE   \n",
       "4       NO DEFECTS  ...   M     USAGE UNKNOWN      NOT APPLICABLE     NONE   \n",
       "...            ...  ...  ..               ...                 ...      ...   \n",
       "558249  NO DEFECTS  ...   M     USAGE UNKNOWN  DEPLOYMENT UNKNOWN     NONE   \n",
       "558250  NO DEFECTS  ...   M     USAGE UNKNOWN  DEPLOYMENT UNKNOWN     NONE   \n",
       "558251  NO DEFECTS  ...   F  SAFETY BELT USED      DID NOT DEPLOY     NONE   \n",
       "558252  NO DEFECTS  ...   F  SAFETY BELT USED      DID NOT DEPLOY     NONE   \n",
       "558253  NO DEFECTS  ...   M  SAFETY BELT USED      DID NOT DEPLOY     NONE   \n",
       "\n",
       "       VEHICLE_DEFECT                 VEHICLE_TYPE  VEHICLE_USE  \\\n",
       "0             UNKNOWN                    PASSENGER     PERSONAL   \n",
       "1             UNKNOWN                    PASSENGER     PERSONAL   \n",
       "2             UNKNOWN                    PASSENGER     PERSONAL   \n",
       "3             UNKNOWN                    PASSENGER     PERSONAL   \n",
       "4             UNKNOWN                    PASSENGER     PERSONAL   \n",
       "...               ...                          ...          ...   \n",
       "558249        UNKNOWN                       PICKUP   UNKNOWN/NA   \n",
       "558250        UNKNOWN                   UNKNOWN/NA     PERSONAL   \n",
       "558251        UNKNOWN                       PICKUP   UNKNOWN/NA   \n",
       "558252        UNKNOWN                   UNKNOWN/NA     PERSONAL   \n",
       "558253           NONE  SPORT UTILITY VEHICLE (SUV)     PERSONAL   \n",
       "\n",
       "             MANEUVER  FIRST_CONTACT_POINT                    geometry  \n",
       "0             BACKING                 REAR  POINT (-87.77329 41.91966)  \n",
       "1       TURNING RIGHT                FRONT  POINT (-87.77329 41.91966)  \n",
       "2             BACKING                 REAR  POINT (-87.77329 41.91966)  \n",
       "3       TURNING RIGHT                FRONT  POINT (-87.77329 41.91966)  \n",
       "4             BACKING                 REAR  POINT (-87.77329 41.91966)  \n",
       "...               ...                  ...                         ...  \n",
       "558249  TURNING RIGHT            REAR-LEFT  POINT (-87.70523 41.85817)  \n",
       "558250   TURNING LEFT           SIDE-RIGHT  POINT (-87.70523 41.85817)  \n",
       "558251  TURNING RIGHT            REAR-LEFT  POINT (-87.70523 41.85817)  \n",
       "558252   TURNING LEFT           SIDE-RIGHT  POINT (-87.70523 41.85817)  \n",
       "558253          OTHER           SIDE-RIGHT  POINT (-87.68725 41.97581)  \n",
       "\n",
       "[558216 rows x 32 columns]"
      ]
     },
     "execution_count": 15,
     "metadata": {},
     "output_type": "execute_result"
    }
   ],
   "source": [
    "geo_df = gpd.GeoDataFrame(df, crs=crs,  geometry=geo )\n",
    "geo_df = geo_df[geo_df['LONGITUDE'] != 0.0]\n",
    "geo_df"
   ]
  },
  {
   "cell_type": "code",
   "execution_count": 17,
   "metadata": {},
   "outputs": [
    {
     "data": {
      "text/plain": [
       "<matplotlib.legend.Legend at 0x7faed58a71f0>"
      ]
     },
     "execution_count": 17,
     "metadata": {},
     "output_type": "execute_result"
    },
    {
     "data": {
      "image/png": "[encoded data removed]",
      "text/plain": [
       "<Figure size 1296x1296 with 1 Axes>"
      ]
     },
     "metadata": {
      "needs_background": "light"
     },
     "output_type": "display_data"
    }
   ],
   "source": [
    "fig, ax = plt.subplots(figsize = (18,18))\n",
    "street_map.plot(ax = ax, alpha = 0.4, color = 'grey')\n",
    "geo_df[geo_df['MOST_SEVERE_INJURY'] == 'severe'].plot(ax = ax, \n",
    "                                                        markersize = 10, \n",
    "                                                        color = 'blue', \n",
    "                                                        marker = 'o', \n",
    "                                                        label = 'severe')\n",
    "\n",
    "\n",
    "# geo_df[geo_df['MOST_SEVERE_INJURY'] == 'medium risk'].plot(ax = ax, \n",
    "#                                                         markersize = 10, \n",
    "#                                                         color = 'red', \n",
    "#                                                         marker = 'o', \n",
    "#                                                         label = 'medium')\n",
    "\n",
    "plt.legend(prop = {'size':15})"
   ]
  },
  {
   "cell_type": "code",
   "execution_count": 18,
   "metadata": {},
   "outputs": [
    {
     "data": {
      "text/html": [
       "<div>\n",
       "<style scoped>\n",
       "    .dataframe tbody tr th:only-of-type {\n",
       "        vertical-align: middle;\n",
       "    }\n",
       "\n",
       "    .dataframe tbody tr th {\n",
       "        vertical-align: top;\n",
       "    }\n",
       "\n",
       "    .dataframe thead th {\n",
       "        text-align: right;\n",
       "    }\n",
       "</style>\n",
       "<table border=\"1\" class=\"dataframe\">\n",
       "  <thead>\n",
       "    <tr style=\"text-align: right;\">\n",
       "      <th></th>\n",
       "      <th>Unnamed: 0</th>\n",
       "      <th>CRASH_RECORD_ID</th>\n",
       "      <th>CRASH_DATE</th>\n",
       "      <th>POSTED_SPEED_LIMIT</th>\n",
       "      <th>DEVICE_CONDITION</th>\n",
       "      <th>WEATHER_CONDITION</th>\n",
       "      <th>LIGHTING_CONDITION</th>\n",
       "      <th>FIRST_CRASH_TYPE</th>\n",
       "      <th>ROADWAY_SURFACE_COND</th>\n",
       "      <th>ROAD_DEFECT</th>\n",
       "      <th>...</th>\n",
       "      <th>AIRBAG_DEPLOYED</th>\n",
       "      <th>EJECTION</th>\n",
       "      <th>VEHICLE_DEFECT</th>\n",
       "      <th>VEHICLE_TYPE</th>\n",
       "      <th>VEHICLE_USE</th>\n",
       "      <th>MANEUVER</th>\n",
       "      <th>FIRST_CONTACT_POINT</th>\n",
       "      <th>geometry</th>\n",
       "      <th>latbin</th>\n",
       "      <th>lonbin</th>\n",
       "    </tr>\n",
       "  </thead>\n",
       "  <tbody>\n",
       "    <tr>\n",
       "      <th>0</th>\n",
       "      <td>0</td>\n",
       "      <td>4fd0a3e0897b3335b94cd8d5b2d2b350eb691add56c62d...</td>\n",
       "      <td>2019-07-10</td>\n",
       "      <td>35</td>\n",
       "      <td>NO CONTROLS</td>\n",
       "      <td>CLEAR</td>\n",
       "      <td>DAYLIGHT</td>\n",
       "      <td>TURNING</td>\n",
       "      <td>DRY</td>\n",
       "      <td>NO DEFECTS</td>\n",
       "      <td>...</td>\n",
       "      <td>NOT APPLICABLE</td>\n",
       "      <td>NONE</td>\n",
       "      <td>UNKNOWN</td>\n",
       "      <td>PASSENGER</td>\n",
       "      <td>PERSONAL</td>\n",
       "      <td>BACKING</td>\n",
       "      <td>REAR</td>\n",
       "      <td>POINT (-87.77329 41.91966)</td>\n",
       "      <td>41.91</td>\n",
       "      <td>-87.78</td>\n",
       "    </tr>\n",
       "    <tr>\n",
       "      <th>1</th>\n",
       "      <td>1</td>\n",
       "      <td>4fd0a3e0897b3335b94cd8d5b2d2b350eb691add56c62d...</td>\n",
       "      <td>2019-07-10</td>\n",
       "      <td>35</td>\n",
       "      <td>NO CONTROLS</td>\n",
       "      <td>CLEAR</td>\n",
       "      <td>DAYLIGHT</td>\n",
       "      <td>TURNING</td>\n",
       "      <td>DRY</td>\n",
       "      <td>NO DEFECTS</td>\n",
       "      <td>...</td>\n",
       "      <td>NOT APPLICABLE</td>\n",
       "      <td>NONE</td>\n",
       "      <td>UNKNOWN</td>\n",
       "      <td>PASSENGER</td>\n",
       "      <td>PERSONAL</td>\n",
       "      <td>TURNING RIGHT</td>\n",
       "      <td>FRONT</td>\n",
       "      <td>POINT (-87.77329 41.91966)</td>\n",
       "      <td>41.91</td>\n",
       "      <td>-87.78</td>\n",
       "    </tr>\n",
       "    <tr>\n",
       "      <th>2</th>\n",
       "      <td>2</td>\n",
       "      <td>4fd0a3e0897b3335b94cd8d5b2d2b350eb691add56c62d...</td>\n",
       "      <td>2019-07-10</td>\n",
       "      <td>35</td>\n",
       "      <td>NO CONTROLS</td>\n",
       "      <td>CLEAR</td>\n",
       "      <td>DAYLIGHT</td>\n",
       "      <td>TURNING</td>\n",
       "      <td>DRY</td>\n",
       "      <td>NO DEFECTS</td>\n",
       "      <td>...</td>\n",
       "      <td>NOT APPLICABLE</td>\n",
       "      <td>NONE</td>\n",
       "      <td>UNKNOWN</td>\n",
       "      <td>PASSENGER</td>\n",
       "      <td>PERSONAL</td>\n",
       "      <td>BACKING</td>\n",
       "      <td>REAR</td>\n",
       "      <td>POINT (-87.77329 41.91966)</td>\n",
       "      <td>41.91</td>\n",
       "      <td>-87.78</td>\n",
       "    </tr>\n",
       "    <tr>\n",
       "      <th>3</th>\n",
       "      <td>3</td>\n",
       "      <td>4fd0a3e0897b3335b94cd8d5b2d2b350eb691add56c62d...</td>\n",
       "      <td>2019-07-10</td>\n",
       "      <td>35</td>\n",
       "      <td>NO CONTROLS</td>\n",
       "      <td>CLEAR</td>\n",
       "      <td>DAYLIGHT</td>\n",
       "      <td>TURNING</td>\n",
       "      <td>DRY</td>\n",
       "      <td>NO DEFECTS</td>\n",
       "      <td>...</td>\n",
       "      <td>NOT APPLICABLE</td>\n",
       "      <td>NONE</td>\n",
       "      <td>UNKNOWN</td>\n",
       "      <td>PASSENGER</td>\n",
       "      <td>PERSONAL</td>\n",
       "      <td>TURNING RIGHT</td>\n",
       "      <td>FRONT</td>\n",
       "      <td>POINT (-87.77329 41.91966)</td>\n",
       "      <td>41.91</td>\n",
       "      <td>-87.78</td>\n",
       "    </tr>\n",
       "    <tr>\n",
       "      <th>4</th>\n",
       "      <td>4</td>\n",
       "      <td>4fd0a3e0897b3335b94cd8d5b2d2b350eb691add56c62d...</td>\n",
       "      <td>2019-07-10</td>\n",
       "      <td>35</td>\n",
       "      <td>NO CONTROLS</td>\n",
       "      <td>CLEAR</td>\n",
       "      <td>DAYLIGHT</td>\n",
       "      <td>TURNING</td>\n",
       "      <td>DRY</td>\n",
       "      <td>NO DEFECTS</td>\n",
       "      <td>...</td>\n",
       "      <td>NOT APPLICABLE</td>\n",
       "      <td>NONE</td>\n",
       "      <td>UNKNOWN</td>\n",
       "      <td>PASSENGER</td>\n",
       "      <td>PERSONAL</td>\n",
       "      <td>BACKING</td>\n",
       "      <td>REAR</td>\n",
       "      <td>POINT (-87.77329 41.91966)</td>\n",
       "      <td>41.91</td>\n",
       "      <td>-87.78</td>\n",
       "    </tr>\n",
       "    <tr>\n",
       "      <th>...</th>\n",
       "      <td>...</td>\n",
       "      <td>...</td>\n",
       "      <td>...</td>\n",
       "      <td>...</td>\n",
       "      <td>...</td>\n",
       "      <td>...</td>\n",
       "      <td>...</td>\n",
       "      <td>...</td>\n",
       "      <td>...</td>\n",
       "      <td>...</td>\n",
       "      <td>...</td>\n",
       "      <td>...</td>\n",
       "      <td>...</td>\n",
       "      <td>...</td>\n",
       "      <td>...</td>\n",
       "      <td>...</td>\n",
       "      <td>...</td>\n",
       "      <td>...</td>\n",
       "      <td>...</td>\n",
       "      <td>...</td>\n",
       "      <td>...</td>\n",
       "    </tr>\n",
       "    <tr>\n",
       "      <th>558249</th>\n",
       "      <td>2528207</td>\n",
       "      <td>ffff27f5ef6d4465bf2e6da46c1d07ac6f017c6ca1f477...</td>\n",
       "      <td>2019-06-19</td>\n",
       "      <td>25</td>\n",
       "      <td>FUNCTIONING PROPERLY</td>\n",
       "      <td>RAIN</td>\n",
       "      <td>DARKNESS, LIGHTED ROAD</td>\n",
       "      <td>TURNING</td>\n",
       "      <td>WET</td>\n",
       "      <td>NO DEFECTS</td>\n",
       "      <td>...</td>\n",
       "      <td>DEPLOYMENT UNKNOWN</td>\n",
       "      <td>NONE</td>\n",
       "      <td>UNKNOWN</td>\n",
       "      <td>PICKUP</td>\n",
       "      <td>UNKNOWN/NA</td>\n",
       "      <td>TURNING RIGHT</td>\n",
       "      <td>REAR-LEFT</td>\n",
       "      <td>POINT (-87.70523 41.85817)</td>\n",
       "      <td>41.85</td>\n",
       "      <td>-87.71</td>\n",
       "    </tr>\n",
       "    <tr>\n",
       "      <th>558250</th>\n",
       "      <td>2528208</td>\n",
       "      <td>ffff27f5ef6d4465bf2e6da46c1d07ac6f017c6ca1f477...</td>\n",
       "      <td>2019-06-19</td>\n",
       "      <td>25</td>\n",
       "      <td>FUNCTIONING PROPERLY</td>\n",
       "      <td>RAIN</td>\n",
       "      <td>DARKNESS, LIGHTED ROAD</td>\n",
       "      <td>TURNING</td>\n",
       "      <td>WET</td>\n",
       "      <td>NO DEFECTS</td>\n",
       "      <td>...</td>\n",
       "      <td>DEPLOYMENT UNKNOWN</td>\n",
       "      <td>NONE</td>\n",
       "      <td>UNKNOWN</td>\n",
       "      <td>UNKNOWN/NA</td>\n",
       "      <td>PERSONAL</td>\n",
       "      <td>TURNING LEFT</td>\n",
       "      <td>SIDE-RIGHT</td>\n",
       "      <td>POINT (-87.70523 41.85817)</td>\n",
       "      <td>41.85</td>\n",
       "      <td>-87.71</td>\n",
       "    </tr>\n",
       "    <tr>\n",
       "      <th>558251</th>\n",
       "      <td>2528209</td>\n",
       "      <td>ffff27f5ef6d4465bf2e6da46c1d07ac6f017c6ca1f477...</td>\n",
       "      <td>2019-06-19</td>\n",
       "      <td>25</td>\n",
       "      <td>FUNCTIONING PROPERLY</td>\n",
       "      <td>RAIN</td>\n",
       "      <td>DARKNESS, LIGHTED ROAD</td>\n",
       "      <td>TURNING</td>\n",
       "      <td>WET</td>\n",
       "      <td>NO DEFECTS</td>\n",
       "      <td>...</td>\n",
       "      <td>DID NOT DEPLOY</td>\n",
       "      <td>NONE</td>\n",
       "      <td>UNKNOWN</td>\n",
       "      <td>PICKUP</td>\n",
       "      <td>UNKNOWN/NA</td>\n",
       "      <td>TURNING RIGHT</td>\n",
       "      <td>REAR-LEFT</td>\n",
       "      <td>POINT (-87.70523 41.85817)</td>\n",
       "      <td>41.85</td>\n",
       "      <td>-87.71</td>\n",
       "    </tr>\n",
       "    <tr>\n",
       "      <th>558252</th>\n",
       "      <td>2528210</td>\n",
       "      <td>ffff27f5ef6d4465bf2e6da46c1d07ac6f017c6ca1f477...</td>\n",
       "      <td>2019-06-19</td>\n",
       "      <td>25</td>\n",
       "      <td>FUNCTIONING PROPERLY</td>\n",
       "      <td>RAIN</td>\n",
       "      <td>DARKNESS, LIGHTED ROAD</td>\n",
       "      <td>TURNING</td>\n",
       "      <td>WET</td>\n",
       "      <td>NO DEFECTS</td>\n",
       "      <td>...</td>\n",
       "      <td>DID NOT DEPLOY</td>\n",
       "      <td>NONE</td>\n",
       "      <td>UNKNOWN</td>\n",
       "      <td>UNKNOWN/NA</td>\n",
       "      <td>PERSONAL</td>\n",
       "      <td>TURNING LEFT</td>\n",
       "      <td>SIDE-RIGHT</td>\n",
       "      <td>POINT (-87.70523 41.85817)</td>\n",
       "      <td>41.85</td>\n",
       "      <td>-87.71</td>\n",
       "    </tr>\n",
       "    <tr>\n",
       "      <th>558253</th>\n",
       "      <td>2528233</td>\n",
       "      <td>ffffb99bbc13fa1949cca5569e2ca38e3b314e4f444e0d...</td>\n",
       "      <td>2019-07-05</td>\n",
       "      <td>30</td>\n",
       "      <td>NO CONTROLS</td>\n",
       "      <td>CLEAR</td>\n",
       "      <td>DAYLIGHT</td>\n",
       "      <td>OTHER OBJECT</td>\n",
       "      <td>DRY</td>\n",
       "      <td>NO DEFECTS</td>\n",
       "      <td>...</td>\n",
       "      <td>DID NOT DEPLOY</td>\n",
       "      <td>NONE</td>\n",
       "      <td>NONE</td>\n",
       "      <td>SPORT UTILITY VEHICLE (SUV)</td>\n",
       "      <td>PERSONAL</td>\n",
       "      <td>OTHER</td>\n",
       "      <td>SIDE-RIGHT</td>\n",
       "      <td>POINT (-87.68725 41.97581)</td>\n",
       "      <td>41.97</td>\n",
       "      <td>-87.69</td>\n",
       "    </tr>\n",
       "  </tbody>\n",
       "</table>\n",
       "<p>558216 rows × 34 columns</p>\n",
       "</div>"
      ],
      "text/plain": [
       "        Unnamed: 0                                    CRASH_RECORD_ID  \\\n",
       "0                0  4fd0a3e0897b3335b94cd8d5b2d2b350eb691add56c62d...   \n",
       "1                1  4fd0a3e0897b3335b94cd8d5b2d2b350eb691add56c62d...   \n",
       "2                2  4fd0a3e0897b3335b94cd8d5b2d2b350eb691add56c62d...   \n",
       "3                3  4fd0a3e0897b3335b94cd8d5b2d2b350eb691add56c62d...   \n",
       "4                4  4fd0a3e0897b3335b94cd8d5b2d2b350eb691add56c62d...   \n",
       "...            ...                                                ...   \n",
       "558249     2528207  ffff27f5ef6d4465bf2e6da46c1d07ac6f017c6ca1f477...   \n",
       "558250     2528208  ffff27f5ef6d4465bf2e6da46c1d07ac6f017c6ca1f477...   \n",
       "558251     2528209  ffff27f5ef6d4465bf2e6da46c1d07ac6f017c6ca1f477...   \n",
       "558252     2528210  ffff27f5ef6d4465bf2e6da46c1d07ac6f017c6ca1f477...   \n",
       "558253     2528233  ffffb99bbc13fa1949cca5569e2ca38e3b314e4f444e0d...   \n",
       "\n",
       "       CRASH_DATE  POSTED_SPEED_LIMIT      DEVICE_CONDITION WEATHER_CONDITION  \\\n",
       "0      2019-07-10                  35           NO CONTROLS             CLEAR   \n",
       "1      2019-07-10                  35           NO CONTROLS             CLEAR   \n",
       "2      2019-07-10                  35           NO CONTROLS             CLEAR   \n",
       "3      2019-07-10                  35           NO CONTROLS             CLEAR   \n",
       "4      2019-07-10                  35           NO CONTROLS             CLEAR   \n",
       "...           ...                 ...                   ...               ...   \n",
       "558249 2019-06-19                  25  FUNCTIONING PROPERLY              RAIN   \n",
       "558250 2019-06-19                  25  FUNCTIONING PROPERLY              RAIN   \n",
       "558251 2019-06-19                  25  FUNCTIONING PROPERLY              RAIN   \n",
       "558252 2019-06-19                  25  FUNCTIONING PROPERLY              RAIN   \n",
       "558253 2019-07-05                  30           NO CONTROLS             CLEAR   \n",
       "\n",
       "            LIGHTING_CONDITION FIRST_CRASH_TYPE ROADWAY_SURFACE_COND  \\\n",
       "0                     DAYLIGHT          TURNING                  DRY   \n",
       "1                     DAYLIGHT          TURNING                  DRY   \n",
       "2                     DAYLIGHT          TURNING                  DRY   \n",
       "3                     DAYLIGHT          TURNING                  DRY   \n",
       "4                     DAYLIGHT          TURNING                  DRY   \n",
       "...                        ...              ...                  ...   \n",
       "558249  DARKNESS, LIGHTED ROAD          TURNING                  WET   \n",
       "558250  DARKNESS, LIGHTED ROAD          TURNING                  WET   \n",
       "558251  DARKNESS, LIGHTED ROAD          TURNING                  WET   \n",
       "558252  DARKNESS, LIGHTED ROAD          TURNING                  WET   \n",
       "558253                DAYLIGHT     OTHER OBJECT                  DRY   \n",
       "\n",
       "       ROAD_DEFECT  ...     AIRBAG_DEPLOYED EJECTION VEHICLE_DEFECT  \\\n",
       "0       NO DEFECTS  ...      NOT APPLICABLE     NONE        UNKNOWN   \n",
       "1       NO DEFECTS  ...      NOT APPLICABLE     NONE        UNKNOWN   \n",
       "2       NO DEFECTS  ...      NOT APPLICABLE     NONE        UNKNOWN   \n",
       "3       NO DEFECTS  ...      NOT APPLICABLE     NONE        UNKNOWN   \n",
       "4       NO DEFECTS  ...      NOT APPLICABLE     NONE        UNKNOWN   \n",
       "...            ...  ...                 ...      ...            ...   \n",
       "558249  NO DEFECTS  ...  DEPLOYMENT UNKNOWN     NONE        UNKNOWN   \n",
       "558250  NO DEFECTS  ...  DEPLOYMENT UNKNOWN     NONE        UNKNOWN   \n",
       "558251  NO DEFECTS  ...      DID NOT DEPLOY     NONE        UNKNOWN   \n",
       "558252  NO DEFECTS  ...      DID NOT DEPLOY     NONE        UNKNOWN   \n",
       "558253  NO DEFECTS  ...      DID NOT DEPLOY     NONE           NONE   \n",
       "\n",
       "                       VEHICLE_TYPE VEHICLE_USE       MANEUVER  \\\n",
       "0                         PASSENGER    PERSONAL        BACKING   \n",
       "1                         PASSENGER    PERSONAL  TURNING RIGHT   \n",
       "2                         PASSENGER    PERSONAL        BACKING   \n",
       "3                         PASSENGER    PERSONAL  TURNING RIGHT   \n",
       "4                         PASSENGER    PERSONAL        BACKING   \n",
       "...                             ...         ...            ...   \n",
       "558249                       PICKUP  UNKNOWN/NA  TURNING RIGHT   \n",
       "558250                   UNKNOWN/NA    PERSONAL   TURNING LEFT   \n",
       "558251                       PICKUP  UNKNOWN/NA  TURNING RIGHT   \n",
       "558252                   UNKNOWN/NA    PERSONAL   TURNING LEFT   \n",
       "558253  SPORT UTILITY VEHICLE (SUV)    PERSONAL          OTHER   \n",
       "\n",
       "        FIRST_CONTACT_POINT                    geometry  latbin  lonbin  \n",
       "0                      REAR  POINT (-87.77329 41.91966)   41.91  -87.78  \n",
       "1                     FRONT  POINT (-87.77329 41.91966)   41.91  -87.78  \n",
       "2                      REAR  POINT (-87.77329 41.91966)   41.91  -87.78  \n",
       "3                     FRONT  POINT (-87.77329 41.91966)   41.91  -87.78  \n",
       "4                      REAR  POINT (-87.77329 41.91966)   41.91  -87.78  \n",
       "...                     ...                         ...     ...     ...  \n",
       "558249            REAR-LEFT  POINT (-87.70523 41.85817)   41.85  -87.71  \n",
       "558250           SIDE-RIGHT  POINT (-87.70523 41.85817)   41.85  -87.71  \n",
       "558251            REAR-LEFT  POINT (-87.70523 41.85817)   41.85  -87.71  \n",
       "558252           SIDE-RIGHT  POINT (-87.70523 41.85817)   41.85  -87.71  \n",
       "558253           SIDE-RIGHT  POINT (-87.68725 41.97581)   41.97  -87.69  \n",
       "\n",
       "[558216 rows x 34 columns]"
      ]
     },
     "execution_count": 18,
     "metadata": {},
     "output_type": "execute_result"
    }
   ],
   "source": [
    "step  = 0.01\n",
    "to_bin = lambda x: np.floor(x / step ) * step \n",
    "geo_df[\"latbin\"] = geo_df['LATITUDE'].map(to_bin)\n",
    "geo_df[\"latbin\"]\n",
    "geo_df[\"lonbin\"] = geo_df['LONGITUDE'].map(to_bin)\n",
    "geo_df"
   ]
  },
  {
   "cell_type": "code",
   "execution_count": 19,
   "metadata": {},
   "outputs": [
    {
     "name": "stderr",
     "output_type": "stream",
     "text": [
      "/opt/anaconda3/lib/python3.8/site-packages/pyproj/crs/crs.py:68: FutureWarning: '+init=<authority>:<code>' syntax is deprecated. '<authority>:<code>' is the preferred initialization method. When making the change, be mindful of axis order changes: https://pyproj4.github.io/pyproj/stable/gotchas.html#axis-order-changes-in-proj-6\n",
      "  return _prepare_from_string(\" \".join(pjargs))\n",
      "No handles with labels found to put in legend.\n"
     ]
    },
    {
     "data": {
      "text/plain": [
       "<matplotlib.legend.Legend at 0x7faee9a2a550>"
      ]
     },
     "execution_count": 19,
     "metadata": {},
     "output_type": "execute_result"
    },
    {
     "data": {
      "image/png": "[encoded data removed]",
      "text/plain": [
       "<Figure size 1296x1296 with 1 Axes>"
      ]
     },
     "metadata": {
      "needs_background": "light"
     },
     "output_type": "display_data"
    }
   ],
   "source": [
    "geo_bin = [Point(xy) for xy in zip( geo_df[\"lonbin\"], geo_df[\"latbin\"])]\n",
    "geo_df_bin = gpd.GeoDataFrame(geo_df, crs=crs,  geometry=geo_bin )\n",
    "\n",
    "fig, ax = plt.subplots(figsize = (18,18))\n",
    "street_map.plot(ax = ax, alpha = 0.4, color = 'grey')\n",
    "geo_df.plot(ax = ax, markersize = 10, color = 'blue', marker = 'o')\n",
    "\n",
    "\n",
    "plt.legend(prop = {'size':15})"
   ]
  },
  {
   "cell_type": "code",
   "execution_count": 21,
   "metadata": {},
   "outputs": [
    {
     "name": "stdout",
     "output_type": "stream",
     "text": [
      "1259.0\n",
      "838.0\n",
      "484.0\n",
      "170.0\n"
     ]
    }
   ],
   "source": [
    "geo_bin = pd.DataFrame(geo_df[[\"lonbin\",\"latbin\"]].value_counts())\n",
    "geo_bin.reset_index(inplace=True)\n",
    "geo_bin['accident_count'] = geo_bin[0] \n",
    "geo_bin['accident_prob'] = 100*(geo_bin['accident_count']/geo_bin['accident_count'].sum())\n",
    "print(geo_bin['accident_count'].quantile(.8) )     \n",
    "print(geo_bin['accident_count'].quantile(.6) )     \n",
    "print(geo_bin['accident_count'].quantile(.4) )     \n",
    "print(geo_bin['accident_count'].quantile(.2) )"
   ]
  },
  {
   "cell_type": "code",
   "execution_count": 22,
   "metadata": {},
   "outputs": [],
   "source": [
    "def label_zones(accident_count):\n",
    "    if accident_count > 1229.0:\n",
    "        return 5\n",
    "    if accident_count < 1229.0 and accident_count > 816.0:\n",
    "        return 4\n",
    "    if accident_count < 816.0 and accident_count > 466.0:\n",
    "        return 3\n",
    "    if accident_count < 466.0 and accident_count > 167.0:\n",
    "        return 2\n",
    "    if accident_count < 167.0:\n",
    "        return 1"
   ]
  },
  {
   "cell_type": "code",
   "execution_count": 23,
   "metadata": {},
   "outputs": [],
   "source": [
    "geo_bin['accident_risk'] = geo_bin['accident_count'].map(lambda x: label_zones(x))"
   ]
  },
  {
   "cell_type": "code",
   "execution_count": 24,
   "metadata": {},
   "outputs": [],
   "source": [
    "df = geo_df.merge(geo_bin, how = 'left', on = ['lonbin','latbin'])\n",
    "df.drop(df.columns[np.r_[0,34]], axis=1, inplace=True)"
   ]
  },
  {
   "cell_type": "code",
   "execution_count": 25,
   "metadata": {},
   "outputs": [
    {
     "name": "stdout",
     "output_type": "stream",
     "text": [
      "<class 'geopandas.geodataframe.GeoDataFrame'>\n",
      "Int64Index: 558216 entries, 0 to 558215\n",
      "Data columns (total 36 columns):\n",
      " #   Column                   Non-Null Count   Dtype         \n",
      "---  ------                   --------------   -----         \n",
      " 0   CRASH_RECORD_ID          558216 non-null  object        \n",
      " 1   CRASH_DATE               558216 non-null  datetime64[ns]\n",
      " 2   POSTED_SPEED_LIMIT       558216 non-null  int64         \n",
      " 3   DEVICE_CONDITION         558216 non-null  object        \n",
      " 4   WEATHER_CONDITION        558216 non-null  object        \n",
      " 5   LIGHTING_CONDITION       558216 non-null  object        \n",
      " 6   FIRST_CRASH_TYPE         558216 non-null  object        \n",
      " 7   ROADWAY_SURFACE_COND     558216 non-null  object        \n",
      " 8   ROAD_DEFECT              558216 non-null  object        \n",
      " 9   CRASH_TYPE               558216 non-null  object        \n",
      " 10  DAMAGE                   558216 non-null  object        \n",
      " 11  PRIM_CONTRIBUTORY_CAUSE  558216 non-null  object        \n",
      " 12  SEC_CONTRIBUTORY_CAUSE   558216 non-null  object        \n",
      " 13  MOST_SEVERE_INJURY       558216 non-null  object        \n",
      " 14  CRASH_HOUR               558216 non-null  int64         \n",
      " 15  CRASH_DAY_OF_WEEK        558216 non-null  int64         \n",
      " 16  CRASH_MONTH              558216 non-null  int64         \n",
      " 17  LATITUDE                 554008 non-null  float64       \n",
      " 18  LONGITUDE                554008 non-null  float64       \n",
      " 19  PERSON_ID                558216 non-null  object        \n",
      " 20  PERSON_TYPE              558216 non-null  object        \n",
      " 21  SEX                      548785 non-null  object        \n",
      " 22  SAFETY_EQUIPMENT         556009 non-null  object        \n",
      " 23  AIRBAG_DEPLOYED          545908 non-null  object        \n",
      " 24  EJECTION                 549871 non-null  object        \n",
      " 25  VEHICLE_DEFECT           543326 non-null  object        \n",
      " 26  VEHICLE_TYPE             543326 non-null  object        \n",
      " 27  VEHICLE_USE              543326 non-null  object        \n",
      " 28  MANEUVER                 543326 non-null  object        \n",
      " 29  FIRST_CONTACT_POINT      537684 non-null  object        \n",
      " 30  geometry                 558216 non-null  geometry      \n",
      " 31  latbin                   554008 non-null  float64       \n",
      " 32  lonbin                   554008 non-null  float64       \n",
      " 33  accident_count           554008 non-null  float64       \n",
      " 34  accident_prob            554008 non-null  float64       \n",
      " 35  accident_risk            552858 non-null  float64       \n",
      "dtypes: datetime64[ns](1), float64(7), geometry(1), int64(4), object(23)\n",
      "memory usage: 157.6+ MB\n"
     ]
    }
   ],
   "source": [
    "df.info()"
   ]
  },
  {
   "cell_type": "code",
   "execution_count": 27,
   "metadata": {},
   "outputs": [
    {
     "data": {
      "text/plain": [
       "mild      483948\n",
       "medium     59576\n",
       "severe     14692\n",
       "Name: MOST_SEVERE_INJURY, dtype: int64"
      ]
     },
     "execution_count": 27,
     "metadata": {},
     "output_type": "execute_result"
    }
   ],
   "source": [
    "geo_df['MOST_SEVERE_INJURY'].value_counts()"
   ]
  },
  {
   "cell_type": "code",
   "execution_count": 29,
   "metadata": {},
   "outputs": [
    {
     "name": "stdout",
     "output_type": "stream",
     "text": [
      "86.69494531163234\n"
     ]
    }
   ],
   "source": [
    "mild_percentage = (483978/(483978+59584+14692))*100\n",
    "print(mild_percentage)"
   ]
  },
  {
   "cell_type": "code",
   "execution_count": 30,
   "metadata": {},
   "outputs": [
    {
     "name": "stdout",
     "output_type": "stream",
     "text": [
      "10.67327775528702\n"
     ]
    }
   ],
   "source": [
    "medium_percentage = (59584/(483978+59584+14692))*100\n",
    "print(medium_percentage)"
   ]
  },
  {
   "cell_type": "code",
   "execution_count": 31,
   "metadata": {},
   "outputs": [
    {
     "name": "stdout",
     "output_type": "stream",
     "text": [
      "2.6317769330806406\n"
     ]
    }
   ],
   "source": [
    "severe_percentage = (14692/(483978+59584+14692))*100\n",
    "print(severe_percentage)"
   ]
  },
  {
   "cell_type": "code",
   "execution_count": 46,
   "metadata": {},
   "outputs": [],
   "source": [
    "# df.dropna(subset=['MOST_SEVERE_INJURY'], inplace=True)"
   ]
  },
  {
   "cell_type": "code",
   "execution_count": 32,
   "metadata": {},
   "outputs": [
    {
     "data": {
      "text/plain": [
       "(558216, 36)"
      ]
     },
     "execution_count": 32,
     "metadata": {},
     "output_type": "execute_result"
    }
   ],
   "source": [
    "df.shape"
   ]
  },
  {
   "cell_type": "markdown",
   "metadata": {},
   "source": [
    "# Split the data"
   ]
  },
  {
   "cell_type": "code",
   "execution_count": 49,
   "metadata": {},
   "outputs": [],
   "source": [
    "X = df.drop([\"MOST_SEVERE_INJURY\",\"CRASH_RECORD_ID\", \"CRASH_DATE\"], axis=1)\n",
    "y = df['MOST_SEVERE_INJURY']\n",
    "X_train, X_test, y_train, y_test = train_test_split(X,y, test_size = .3, random_state = 42)"
   ]
  },
  {
   "cell_type": "code",
   "execution_count": 50,
   "metadata": {},
   "outputs": [
    {
     "name": "stderr",
     "output_type": "stream",
     "text": [
      "/opt/anaconda3/lib/python3.8/site-packages/pandas/core/frame.py:4524: SettingWithCopyWarning: \n",
      "A value is trying to be set on a copy of a slice from a DataFrame\n",
      "\n",
      "See the caveats in the documentation: https://pandas.pydata.org/pandas-docs/stable/user_guide/indexing.html#returning-a-view-versus-a-copy\n",
      "  return super().replace(\n"
     ]
    }
   ],
   "source": [
    "X_train.replace([np.inf, -np.inf], np.nan, inplace=True)"
   ]
  },
  {
   "cell_type": "code",
   "execution_count": 51,
   "metadata": {},
   "outputs": [
    {
     "name": "stderr",
     "output_type": "stream",
     "text": [
      "/opt/anaconda3/lib/python3.8/site-packages/pandas/core/series.py:4463: SettingWithCopyWarning: \n",
      "A value is trying to be set on a copy of a slice from a DataFrame\n",
      "\n",
      "See the caveats in the documentation: https://pandas.pydata.org/pandas-docs/stable/user_guide/indexing.html#returning-a-view-versus-a-copy\n",
      "  return super().fillna(\n"
     ]
    }
   ],
   "source": [
    "X_train['LATITUDE'].fillna(df['LATITUDE'].mean(), inplace=True )\n",
    "X_train['LONGITUDE'].fillna(df['LONGITUDE'].mean(), inplace=True )"
   ]
  },
  {
   "cell_type": "code",
   "execution_count": 52,
   "metadata": {},
   "outputs": [
    {
     "name": "stderr",
     "output_type": "stream",
     "text": [
      "<ipython-input-52-6614c1745b58>:3: SettingWithCopyWarning: \n",
      "A value is trying to be set on a copy of a slice from a DataFrame.\n",
      "Try using .loc[row_indexer,col_indexer] = value instead\n",
      "\n",
      "See the caveats in the documentation: https://pandas.pydata.org/pandas-docs/stable/user_guide/indexing.html#returning-a-view-versus-a-copy\n",
      "  X_train['SEX'] = X_train['SEX'].map({'M': 'M',\n"
     ]
    },
    {
     "data": {
      "text/plain": [
       "M          203352\n",
       "F          150158\n",
       "Unknown     37267\n",
       "Name: SEX, dtype: int64"
      ]
     },
     "execution_count": 52,
     "metadata": {},
     "output_type": "execute_result"
    }
   ],
   "source": [
    "X_train['SEX'].fillna('X', inplace=True)\n",
    "\n",
    "X_train['SEX'] = X_train['SEX'].map({'M': 'M', \n",
    "                           'F': 'F',\n",
    "                           'X': 'Unknown'})\n",
    "X_train['SEX'].value_counts()"
   ]
  },
  {
   "cell_type": "code",
   "execution_count": 53,
   "metadata": {},
   "outputs": [],
   "source": [
    "X_train['SAFETY_EQUIPMENT'].fillna('USAGE UNKNOWN', inplace=True)\n",
    "X_train['AIRBAG_DEPLOYED'].fillna('DEPLOYMENT UNKNOWN', inplace=True)\n",
    "X_train['EJECTION'].fillna('UNKNOWN', inplace=True)\n",
    "X_train['VEHICLE_DEFECT'].fillna('UNKNOWN', inplace=True)\n",
    "X_train['VEHICLE_TYPE'].fillna('UNKNOWN/NA', inplace=True)\n",
    "X_train['VEHICLE_USE'].fillna('UNKNOWN/NA', inplace=True)\n",
    "X_train['MANEUVER'].fillna('UNKNOWN/NA', inplace=True)\n",
    "X_train['FIRST_CONTACT_POINT'].fillna('UNKNOWN', inplace=True)"
   ]
  },
  {
   "cell_type": "code",
   "execution_count": 54,
   "metadata": {},
   "outputs": [
    {
     "data": {
      "text/plain": [
       "Unnamed: 0                 0\n",
       "POSTED_SPEED_LIMIT         0\n",
       "DEVICE_CONDITION           0\n",
       "WEATHER_CONDITION          0\n",
       "LIGHTING_CONDITION         0\n",
       "FIRST_CRASH_TYPE           0\n",
       "ROADWAY_SURFACE_COND       0\n",
       "ROAD_DEFECT                0\n",
       "CRASH_TYPE                 0\n",
       "DAMAGE                     0\n",
       "PRIM_CONTRIBUTORY_CAUSE    0\n",
       "SEC_CONTRIBUTORY_CAUSE     0\n",
       "CRASH_HOUR                 0\n",
       "CRASH_DAY_OF_WEEK          0\n",
       "CRASH_MONTH                0\n",
       "LATITUDE                   0\n",
       "LONGITUDE                  0\n",
       "PERSON_ID                  0\n",
       "PERSON_TYPE                0\n",
       "SEX                        0\n",
       "SAFETY_EQUIPMENT           0\n",
       "AIRBAG_DEPLOYED            0\n",
       "EJECTION                   0\n",
       "VEHICLE_DEFECT             0\n",
       "VEHICLE_TYPE               0\n",
       "VEHICLE_USE                0\n",
       "MANEUVER                   0\n",
       "FIRST_CONTACT_POINT        0\n",
       "dtype: int64"
      ]
     },
     "execution_count": 54,
     "metadata": {},
     "output_type": "execute_result"
    }
   ],
   "source": [
    "X_train.isnull().sum()"
   ]
  },
  {
   "cell_type": "markdown",
   "metadata": {},
   "source": [
    "# dummy_model"
   ]
  },
  {
   "cell_type": "code",
   "execution_count": 62,
   "metadata": {},
   "outputs": [
    {
     "data": {
      "text/plain": [
       "array([0.86690721, 0.86690721, 0.8669183 , 0.8669183 , 0.8669183 ])"
      ]
     },
     "execution_count": 62,
     "metadata": {},
     "output_type": "execute_result"
    }
   ],
   "source": [
    "dummy_model = DummyClassifier(strategy=\"most_frequent\")\n",
    "dummy_model.fit(X_train, y_train)\n",
    "dummy_model.predict(X_train)[:50]\n",
    "cv_results = cross_val_score(dummy_model, X_train, y_train, cv=5)\n",
    "cv_results"
   ]
  },
  {
   "cell_type": "markdown",
   "metadata": {},
   "source": [
    "# Logistic Model-baseline"
   ]
  },
  {
   "cell_type": "code",
   "execution_count": 67,
   "metadata": {},
   "outputs": [
    {
     "data": {
      "text/plain": [
       "0.8669138664762768"
      ]
     },
     "execution_count": 67,
     "metadata": {},
     "output_type": "execute_result"
    }
   ],
   "source": [
    "X_train_baseline = X_train.select_dtypes(include=['int64','float64'])\n",
    "X_test_baseline = X_test.select_dtypes(include=['int64','float64'])\n",
    "\n",
    "model = LogisticRegression(multi_class='multinomial', solver='lbfgs',max_iter=10000000)\n",
    "model.fit(X_train_baseline,y_train)\n",
    "y_hat = model.predict(X_train_baseline)\n",
    "\n",
    "acc = accuracy_score(y_train,y_hat)\n",
    "acc"
   ]
  },
  {
   "cell_type": "code",
   "execution_count": 69,
   "metadata": {},
   "outputs": [
    {
     "name": "stderr",
     "output_type": "stream",
     "text": [
      "/opt/anaconda3/lib/python3.8/site-packages/sklearn/metrics/_classification.py:1245: UndefinedMetricWarning: Precision is ill-defined and being set to 0.0 in labels with no predicted samples. Use `zero_division` parameter to control this behavior.\n",
      "  _warn_prf(average, modifier, msg_start, len(result))\n"
     ]
    },
    {
     "data": {
      "text/plain": [
       "0.2889712888254256"
      ]
     },
     "execution_count": 69,
     "metadata": {},
     "output_type": "execute_result"
    }
   ],
   "source": [
    "precision_score(y_train, y_hat, average='macro')"
   ]
  },
  {
   "cell_type": "code",
   "execution_count": 70,
   "metadata": {},
   "outputs": [
    {
     "data": {
      "text/plain": [
       "0.8669138664762768"
      ]
     },
     "execution_count": 70,
     "metadata": {},
     "output_type": "execute_result"
    }
   ],
   "source": [
    "precision_score(y_train, y_hat, average='micro')"
   ]
  },
  {
   "cell_type": "code",
   "execution_count": 71,
   "metadata": {},
   "outputs": [
    {
     "name": "stderr",
     "output_type": "stream",
     "text": [
      "/opt/anaconda3/lib/python3.8/site-packages/sklearn/metrics/_classification.py:1245: UndefinedMetricWarning: Precision is ill-defined and being set to 0.0 in labels with no predicted samples. Use `zero_division` parameter to control this behavior.\n",
      "  _warn_prf(average, modifier, msg_start, len(result))\n"
     ]
    },
    {
     "data": {
      "text/plain": [
       "0.7515396518888477"
      ]
     },
     "execution_count": 71,
     "metadata": {},
     "output_type": "execute_result"
    }
   ],
   "source": [
    "precision_score(y_train, y_hat, average='weighted')"
   ]
  },
  {
   "cell_type": "code",
   "execution_count": 89,
   "metadata": {},
   "outputs": [
    {
     "data": {
      "text/plain": [
       "0.3333333333333333"
      ]
     },
     "execution_count": 89,
     "metadata": {},
     "output_type": "execute_result"
    }
   ],
   "source": [
    "recall_score(y_train, y_hat, average='macro')"
   ]
  },
  {
   "cell_type": "code",
   "execution_count": 90,
   "metadata": {},
   "outputs": [
    {
     "data": {
      "text/plain": [
       "0.8669138664762768"
      ]
     },
     "execution_count": 90,
     "metadata": {},
     "output_type": "execute_result"
    }
   ],
   "source": [
    "recall_score(y_train, y_hat, average='micro')"
   ]
  },
  {
   "cell_type": "code",
   "execution_count": 91,
   "metadata": {},
   "outputs": [
    {
     "data": {
      "text/plain": [
       "0.8669138664762768"
      ]
     },
     "execution_count": 91,
     "metadata": {},
     "output_type": "execute_result"
    }
   ],
   "source": [
    "recall_score(y_train, y_hat, average='weighted')"
   ]
  },
  {
   "cell_type": "code",
   "execution_count": 36,
   "metadata": {},
   "outputs": [
    {
     "data": {
      "text/plain": [
       "array([[     0,  10264,      0],\n",
       "       [     0, 338770,      0],\n",
       "       [     0,  41743,      0]])"
      ]
     },
     "execution_count": 36,
     "metadata": {},
     "output_type": "execute_result"
    }
   ],
   "source": [
    "confusion_matrix(y_train, y_hat)"
   ]
  },
  {
   "cell_type": "code",
   "execution_count": null,
   "metadata": {},
   "outputs": [],
   "source": []
  },
  {
   "cell_type": "code",
   "execution_count": 86,
   "metadata": {},
   "outputs": [],
   "source": [
    "categoricals = ['POSTED_SPEED_LIMIT', 'DEVICE_CONDITION',\n",
    "       'WEATHER_CONDITION', 'LIGHTING_CONDITION']\n",
    "\n",
    "train_dummies = X_train[categoricals]\n",
    "#test_dummies = X_test[categoricals]\n",
    "\n",
    "# Create OneHotEncoder object to create dummies\n",
    "ohe = OneHotEncoder(handle_unknown='ignore')\n",
    "# Transform the dataset into dummies matrix\n",
    "\n",
    "enc = ohe.fit(train_dummies)\n",
    "train_dummies_trans = enc.transform(train_dummies)\n",
    "#test_dummies_trans = enc.transform(test_dummies)\n",
    "\n",
    "# Dummies values in matrix form\n",
    "train_data = train_dummies_trans.todense()\n",
    "#test_data = test_dummies_trans.todense()\n",
    "\n",
    "# New dummy column names\n",
    "names = ohe.get_feature_names(categoricals)\n",
    "\n",
    "# Make them into Dataframe\n",
    "train_dummies_trans_df = pd.DataFrame(train_data, columns=names)\n",
    "#test_dummies_trans_df = pd.DataFrame(test_data, columns=names)"
   ]
  },
  {
   "cell_type": "code",
   "execution_count": null,
   "metadata": {},
   "outputs": [],
   "source": [
    "from sklearn import *\n",
    "logreg_model_dummy = LogisticRegression(random_state=2021, penalty='none',max_iter=10000)\n",
    "logreg_model_dummy.fit(train_dummies_trans_df, y_train)\n",
    "y_hat_dummy = model.predict(train_dummies_trans_df)\n",
    "y_hat_dummy\n",
    "# acc = accuracy_score(y_train,train_dummies_trans_df)\n",
    "# acc"
   ]
  },
  {
   "cell_type": "markdown",
   "metadata": {},
   "source": [
    "# Decision Tree"
   ]
  },
  {
   "cell_type": "code",
   "execution_count": 81,
   "metadata": {},
   "outputs": [
    {
     "data": {
      "text/plain": [
       "array(['low risk', 'low risk', 'low risk', ..., 'low risk', 'low risk',\n",
       "       'low risk'], dtype=object)"
      ]
     },
     "execution_count": 81,
     "metadata": {},
     "output_type": "execute_result"
    }
   ],
   "source": [
    "tree_clf = DecisionTreeClassifier(max_depth=2) \n",
    "\n",
    "tree_clf.fit(train_dummies_trans_df, y_train)\n",
    "\n",
    "y_pred_dt = tree_clf.predict(train_dummies_trans_df)\n",
    "y_pred_dt"
   ]
  },
  {
   "cell_type": "code",
   "execution_count": 82,
   "metadata": {},
   "outputs": [
    {
     "name": "stdout",
     "output_type": "stream",
     "text": [
      "Accuracy: 86.69138664762768\n"
     ]
    }
   ],
   "source": [
    "acc = accuracy_score(y_train,y_pred_dt) * 100\n",
    "print(\"Accuracy: {0}\".format(acc))"
   ]
  },
  {
   "cell_type": "code",
   "execution_count": 83,
   "metadata": {},
   "outputs": [
    {
     "name": "stderr",
     "output_type": "stream",
     "text": [
      "/opt/anaconda3/lib/python3.8/site-packages/sklearn/metrics/_classification.py:1245: UndefinedMetricWarning: Precision is ill-defined and being set to 0.0 in labels with no predicted samples. Use `zero_division` parameter to control this behavior.\n",
      "  _warn_prf(average, modifier, msg_start, len(result))\n"
     ]
    },
    {
     "data": {
      "text/plain": [
       "0.2889712888254256"
      ]
     },
     "execution_count": 83,
     "metadata": {},
     "output_type": "execute_result"
    }
   ],
   "source": [
    "precision_score(y_train, y_pred_dt, average='macro')"
   ]
  },
  {
   "cell_type": "code",
   "execution_count": 84,
   "metadata": {},
   "outputs": [
    {
     "data": {
      "text/plain": [
       "0.8669138664762768"
      ]
     },
     "execution_count": 84,
     "metadata": {},
     "output_type": "execute_result"
    }
   ],
   "source": [
    "precision_score(y_train, y_pred_dt, average='micro')"
   ]
  },
  {
   "cell_type": "code",
   "execution_count": 85,
   "metadata": {},
   "outputs": [
    {
     "name": "stderr",
     "output_type": "stream",
     "text": [
      "/opt/anaconda3/lib/python3.8/site-packages/sklearn/metrics/_classification.py:1245: UndefinedMetricWarning: Precision is ill-defined and being set to 0.0 in labels with no predicted samples. Use `zero_division` parameter to control this behavior.\n",
      "  _warn_prf(average, modifier, msg_start, len(result))\n"
     ]
    },
    {
     "data": {
      "text/plain": [
       "0.7515396518888477"
      ]
     },
     "execution_count": 85,
     "metadata": {},
     "output_type": "execute_result"
    }
   ],
   "source": [
    "precision_score(y_train, y_pred_dt, average='weighted')"
   ]
  },
  {
   "cell_type": "code",
   "execution_count": 35,
   "metadata": {},
   "outputs": [
    {
     "data": {
      "image/png": "[encoded data removed]",
      "text/plain": [
       "<Figure size 720x720 with 1 Axes>"
      ]
     },
     "metadata": {
      "needs_background": "light"
     },
     "output_type": "display_data"
    }
   ],
   "source": [
    "f,ax = plt.subplots(figsize=(10,10))\n",
    "plot_tree(tree_clf, ax=ax);"
   ]
  },
  {
   "cell_type": "code",
   "execution_count": null,
   "metadata": {},
   "outputs": [],
   "source": []
  }
 ],
 "metadata": {
  "kernelspec": {
   "display_name": "Python 3",
   "language": "python",
   "name": "python3"
  },
  "language_info": {
   "codemirror_mode": {
    "name": "ipython",
    "version": 3
   },
   "file_extension": ".py",
   "mimetype": "text/x-python",
   "name": "python",
   "nbconvert_exporter": "python",
   "pygments_lexer": "ipython3",
   "version": "3.8.8"
  },
  "toc": {
   "base_numbering": 1,
   "nav_menu": {},
   "number_sections": true,
   "sideBar": true,
   "skip_h1_title": false,
   "title_cell": "Table of Contents",
   "title_sidebar": "TOC",
   "toc_cell": true,
   "toc_position": {
    "height": "calc(100% - 180px)",
    "left": "10px",
    "top": "150px",
    "width": "232px"
   },
   "toc_section_display": true,
   "toc_window_display": true
  }
 },
 "nbformat": 4,
 "nbformat_minor": 4
}
