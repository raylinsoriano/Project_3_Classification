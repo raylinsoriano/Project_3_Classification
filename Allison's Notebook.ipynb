{
 "cells": [
  {
   "cell_type": "code",
   "execution_count": 38,
   "metadata": {},
   "outputs": [],
   "source": [
    "import pandas as pd \n",
    "import numpy as np \n",
    "import csv  \n",
    "import matplotlib.pyplot as plt\n",
    "import seaborn as sns\n",
    "import datetime as datetime\n",
    "import datetime\n",
    "%matplotlib inline"
   ]
  },
  {
   "cell_type": "code",
   "execution_count": 68,
   "metadata": {},
   "outputs": [],
   "source": [
    "from sklearn.linear_model import LogisticRegression\n",
    "from sklearn.model_selection import train_test_split\n",
    "from sklearn.metrics import accuracy_score\n",
    "from sklearn.metrics import plot_confusion_matrix\n",
    "from sklearn.tree import DecisionTreeClassifier, plot_tree\n",
    "from sklearn.preprocessing import OneHotEncoder, StandardScaler\n",
    "from sklearn.metrics import confusion_matrix\n",
    "from sklearn.dummy import DummyClassifier\n",
    "from sklearn.model_selection import train_test_split, cross_val_score\n",
    "from sklearn.metrics import plot_roc_curve\n",
    "\n",
    "from sklearn.metrics import confusion_matrix, plot_confusion_matrix,\\\n",
    "    precision_score, recall_score, accuracy_score, f1_score, log_loss,\\\n",
    "    roc_curve, roc_auc_score, classification_report"
   ]
  },
  {
   "cell_type": "code",
   "execution_count": 3,
   "metadata": {},
   "outputs": [],
   "source": [
    "#crashes_data = pd.read_csv('data/Traffic_Crashes_-_Crashes.csv', low_memory=False)\n",
    "# crashes_data.drop(crashes_data.columns[np.r_[1,2,5,10:13,15,17:20,21,24:35,36:43,48]], axis=1, inplace=True)"
   ]
  },
  {
   "cell_type": "code",
   "execution_count": 4,
   "metadata": {},
   "outputs": [],
   "source": [
    "# people_data = pd.read_csv('data/Traffic_Crashes_-_People.csv', low_memory=False)\n",
    "# people_data.drop(people_data.columns[np.r_[3:10,11,12,13,17:30]], axis=1, inplace=True)"
   ]
  },
  {
   "cell_type": "code",
   "execution_count": 5,
   "metadata": {},
   "outputs": [],
   "source": [
    "# vehicles_data = pd.read_csv('data/Traffic_Crashes_-_Vehicles.csv', low_memory=False)\n",
    "# vehicles_data.drop(vehicles_data.columns[np.r_[0,2:13,16,18:38,39:72]], axis=1, inplace=True)"
   ]
  },
  {
   "cell_type": "code",
   "execution_count": 6,
   "metadata": {},
   "outputs": [],
   "source": [
    "# people_crashes_data = crashes_data.merge(people_data, on='CRASH_RECORD_ID')\n",
    "# df = people_crashes_data.merge(vehicles_data, on='CRASH_RECORD_ID')"
   ]
  },
  {
   "cell_type": "code",
   "execution_count": 7,
   "metadata": {},
   "outputs": [],
   "source": [
    "# df= df[df[\"CRASH_DATE\"].isin(pd.date_range(\"2019-01-01\", \"2020-01-01\"))]"
   ]
  },
  {
   "cell_type": "code",
   "execution_count": 8,
   "metadata": {},
   "outputs": [],
   "source": [
    "# import datetime as datetime\n",
    "# df['CRASH_DATE'] = df['CRASH_DATE'].map(lambda x: datetime.datetime.strptime(x[0:10], \"%m/%d/%Y\"))\n",
    "# df['CRASH_DATE']"
   ]
  },
  {
   "cell_type": "code",
   "execution_count": 40,
   "metadata": {},
   "outputs": [],
   "source": [
    "df = pd.read_csv(\"Data/merged_df.csv\")"
   ]
  },
  {
   "cell_type": "code",
   "execution_count": 10,
   "metadata": {},
   "outputs": [
    {
     "name": "stdout",
     "output_type": "stream",
     "text": [
      "<class 'pandas.core.frame.DataFrame'>\n",
      "RangeIndex: 558254 entries, 0 to 558253\n",
      "Data columns (total 31 columns):\n",
      " #   Column                   Non-Null Count   Dtype  \n",
      "---  ------                   --------------   -----  \n",
      " 0   Unnamed: 0               558254 non-null  int64  \n",
      " 1   CRASH_RECORD_ID          558254 non-null  object \n",
      " 2   CRASH_DATE               558254 non-null  object \n",
      " 3   POSTED_SPEED_LIMIT       558254 non-null  int64  \n",
      " 4   DEVICE_CONDITION         558254 non-null  object \n",
      " 5   WEATHER_CONDITION        558254 non-null  object \n",
      " 6   LIGHTING_CONDITION       558254 non-null  object \n",
      " 7   FIRST_CRASH_TYPE         558254 non-null  object \n",
      " 8   ROADWAY_SURFACE_COND     558254 non-null  object \n",
      " 9   ROAD_DEFECT              558254 non-null  object \n",
      " 10  CRASH_TYPE               558254 non-null  object \n",
      " 11  DAMAGE                   558254 non-null  object \n",
      " 12  PRIM_CONTRIBUTORY_CAUSE  558254 non-null  object \n",
      " 13  SEC_CONTRIBUTORY_CAUSE   558254 non-null  object \n",
      " 14  MOST_SEVERE_INJURY       558254 non-null  object \n",
      " 15  CRASH_HOUR               558254 non-null  int64  \n",
      " 16  CRASH_DAY_OF_WEEK        558254 non-null  int64  \n",
      " 17  CRASH_MONTH              558254 non-null  int64  \n",
      " 18  LATITUDE                 554046 non-null  float64\n",
      " 19  LONGITUDE                554046 non-null  float64\n",
      " 20  PERSON_ID                558254 non-null  object \n",
      " 21  PERSON_TYPE              558254 non-null  object \n",
      " 22  SEX                      548823 non-null  object \n",
      " 23  SAFETY_EQUIPMENT         556047 non-null  object \n",
      " 24  AIRBAG_DEPLOYED          545946 non-null  object \n",
      " 25  EJECTION                 549909 non-null  object \n",
      " 26  VEHICLE_DEFECT           543364 non-null  object \n",
      " 27  VEHICLE_TYPE             543364 non-null  object \n",
      " 28  VEHICLE_USE              543364 non-null  object \n",
      " 29  MANEUVER                 543364 non-null  object \n",
      " 30  FIRST_CONTACT_POINT      537722 non-null  object \n",
      "dtypes: float64(2), int64(5), object(24)\n",
      "memory usage: 132.0+ MB\n"
     ]
    }
   ],
   "source": [
    "df.info()"
   ]
  },
  {
   "cell_type": "code",
   "execution_count": 41,
   "metadata": {},
   "outputs": [],
   "source": [
    "df['MOST_SEVERE_INJURY'] = df['MOST_SEVERE_INJURY'].map({'NO INDICATION OF INJURY': 'low risk', \n",
    "                                                                         'REPORTED, NOT EVIDENT': 'low risk',\n",
    "                                                                         'NONINCAPACITATING INJURY': 'medium risk',\n",
    "                                                                         'INCAPACITATING INJURY': 'high risk',\n",
    "                                                                         'FATAL': 'high risk'})\n"
   ]
  },
  {
   "cell_type": "code",
   "execution_count": 42,
   "metadata": {},
   "outputs": [
    {
     "data": {
      "text/plain": [
       "low risk       483978\n",
       "medium risk     59584\n",
       "high risk       14692\n",
       "Name: MOST_SEVERE_INJURY, dtype: int64"
      ]
     },
     "execution_count": 42,
     "metadata": {},
     "output_type": "execute_result"
    }
   ],
   "source": [
    "df['MOST_SEVERE_INJURY'].value_counts()"
   ]
  },
  {
   "cell_type": "code",
   "execution_count": 43,
   "metadata": {},
   "outputs": [
    {
     "name": "stdout",
     "output_type": "stream",
     "text": [
      "86.69494531163234\n"
     ]
    }
   ],
   "source": [
    "low_risk_percentage = (483978/(483978+59584+14692))*100\n",
    "print(low_risk_percentage)"
   ]
  },
  {
   "cell_type": "code",
   "execution_count": 44,
   "metadata": {},
   "outputs": [
    {
     "name": "stdout",
     "output_type": "stream",
     "text": [
      "10.67327775528702\n"
     ]
    }
   ],
   "source": [
    "med_risk_percentage = (59584/(483978+59584+14692))*100\n",
    "print(med_risk_percentage)"
   ]
  },
  {
   "cell_type": "code",
   "execution_count": 45,
   "metadata": {},
   "outputs": [
    {
     "name": "stdout",
     "output_type": "stream",
     "text": [
      "2.6317769330806406\n"
     ]
    }
   ],
   "source": [
    "high_risk_percentage = (14692/(483978+59584+14692))*100\n",
    "print(high_risk_percentage)"
   ]
  },
  {
   "cell_type": "code",
   "execution_count": 46,
   "metadata": {},
   "outputs": [],
   "source": [
    "df.dropna(subset=['MOST_SEVERE_INJURY'], inplace=True)"
   ]
  },
  {
   "cell_type": "code",
   "execution_count": 47,
   "metadata": {},
   "outputs": [
    {
     "data": {
      "text/plain": [
       "0"
      ]
     },
     "execution_count": 47,
     "metadata": {},
     "output_type": "execute_result"
    }
   ],
   "source": [
    "df.duplicated().sum()"
   ]
  },
  {
   "cell_type": "code",
   "execution_count": 48,
   "metadata": {},
   "outputs": [],
   "source": [
    "#df.drop_duplicates(inplace=True)"
   ]
  },
  {
   "cell_type": "code",
   "execution_count": 19,
   "metadata": {},
   "outputs": [
    {
     "data": {
      "text/plain": [
       "(558254, 31)"
      ]
     },
     "execution_count": 19,
     "metadata": {},
     "output_type": "execute_result"
    }
   ],
   "source": [
    "df.shape"
   ]
  },
  {
   "cell_type": "markdown",
   "metadata": {},
   "source": [
    "# Split the data"
   ]
  },
  {
   "cell_type": "code",
   "execution_count": 49,
   "metadata": {},
   "outputs": [],
   "source": [
    "X = df.drop([\"MOST_SEVERE_INJURY\",\"CRASH_RECORD_ID\", \"CRASH_DATE\"], axis=1)\n",
    "y = df['MOST_SEVERE_INJURY']\n",
    "X_train, X_test, y_train, y_test = train_test_split(X,y, test_size = .3, random_state = 42)"
   ]
  },
  {
   "cell_type": "code",
   "execution_count": 50,
   "metadata": {},
   "outputs": [
    {
     "name": "stderr",
     "output_type": "stream",
     "text": [
      "/opt/anaconda3/lib/python3.8/site-packages/pandas/core/frame.py:4524: SettingWithCopyWarning: \n",
      "A value is trying to be set on a copy of a slice from a DataFrame\n",
      "\n",
      "See the caveats in the documentation: https://pandas.pydata.org/pandas-docs/stable/user_guide/indexing.html#returning-a-view-versus-a-copy\n",
      "  return super().replace(\n"
     ]
    }
   ],
   "source": [
    "X_train.replace([np.inf, -np.inf], np.nan, inplace=True)"
   ]
  },
  {
   "cell_type": "code",
   "execution_count": 51,
   "metadata": {},
   "outputs": [
    {
     "name": "stderr",
     "output_type": "stream",
     "text": [
      "/opt/anaconda3/lib/python3.8/site-packages/pandas/core/series.py:4463: SettingWithCopyWarning: \n",
      "A value is trying to be set on a copy of a slice from a DataFrame\n",
      "\n",
      "See the caveats in the documentation: https://pandas.pydata.org/pandas-docs/stable/user_guide/indexing.html#returning-a-view-versus-a-copy\n",
      "  return super().fillna(\n"
     ]
    }
   ],
   "source": [
    "X_train['LATITUDE'].fillna(df['LATITUDE'].mean(), inplace=True )\n",
    "X_train['LONGITUDE'].fillna(df['LONGITUDE'].mean(), inplace=True )"
   ]
  },
  {
   "cell_type": "code",
   "execution_count": 52,
   "metadata": {},
   "outputs": [
    {
     "name": "stderr",
     "output_type": "stream",
     "text": [
      "<ipython-input-52-6614c1745b58>:3: SettingWithCopyWarning: \n",
      "A value is trying to be set on a copy of a slice from a DataFrame.\n",
      "Try using .loc[row_indexer,col_indexer] = value instead\n",
      "\n",
      "See the caveats in the documentation: https://pandas.pydata.org/pandas-docs/stable/user_guide/indexing.html#returning-a-view-versus-a-copy\n",
      "  X_train['SEX'] = X_train['SEX'].map({'M': 'M',\n"
     ]
    },
    {
     "data": {
      "text/plain": [
       "M          203352\n",
       "F          150158\n",
       "Unknown     37267\n",
       "Name: SEX, dtype: int64"
      ]
     },
     "execution_count": 52,
     "metadata": {},
     "output_type": "execute_result"
    }
   ],
   "source": [
    "X_train['SEX'].fillna('X', inplace=True)\n",
    "\n",
    "X_train['SEX'] = X_train['SEX'].map({'M': 'M', \n",
    "                           'F': 'F',\n",
    "                           'X': 'Unknown'})\n",
    "X_train['SEX'].value_counts()"
   ]
  },
  {
   "cell_type": "code",
   "execution_count": 53,
   "metadata": {},
   "outputs": [],
   "source": [
    "X_train['SAFETY_EQUIPMENT'].fillna('USAGE UNKNOWN', inplace=True)\n",
    "X_train['AIRBAG_DEPLOYED'].fillna('DEPLOYMENT UNKNOWN', inplace=True)\n",
    "X_train['EJECTION'].fillna('UNKNOWN', inplace=True)\n",
    "X_train['VEHICLE_DEFECT'].fillna('UNKNOWN', inplace=True)\n",
    "X_train['VEHICLE_TYPE'].fillna('UNKNOWN/NA', inplace=True)\n",
    "X_train['VEHICLE_USE'].fillna('UNKNOWN/NA', inplace=True)\n",
    "X_train['MANEUVER'].fillna('UNKNOWN/NA', inplace=True)\n",
    "X_train['FIRST_CONTACT_POINT'].fillna('UNKNOWN', inplace=True)"
   ]
  },
  {
   "cell_type": "code",
   "execution_count": 54,
   "metadata": {},
   "outputs": [
    {
     "data": {
      "text/plain": [
       "Unnamed: 0                 0\n",
       "POSTED_SPEED_LIMIT         0\n",
       "DEVICE_CONDITION           0\n",
       "WEATHER_CONDITION          0\n",
       "LIGHTING_CONDITION         0\n",
       "FIRST_CRASH_TYPE           0\n",
       "ROADWAY_SURFACE_COND       0\n",
       "ROAD_DEFECT                0\n",
       "CRASH_TYPE                 0\n",
       "DAMAGE                     0\n",
       "PRIM_CONTRIBUTORY_CAUSE    0\n",
       "SEC_CONTRIBUTORY_CAUSE     0\n",
       "CRASH_HOUR                 0\n",
       "CRASH_DAY_OF_WEEK          0\n",
       "CRASH_MONTH                0\n",
       "LATITUDE                   0\n",
       "LONGITUDE                  0\n",
       "PERSON_ID                  0\n",
       "PERSON_TYPE                0\n",
       "SEX                        0\n",
       "SAFETY_EQUIPMENT           0\n",
       "AIRBAG_DEPLOYED            0\n",
       "EJECTION                   0\n",
       "VEHICLE_DEFECT             0\n",
       "VEHICLE_TYPE               0\n",
       "VEHICLE_USE                0\n",
       "MANEUVER                   0\n",
       "FIRST_CONTACT_POINT        0\n",
       "dtype: int64"
      ]
     },
     "execution_count": 54,
     "metadata": {},
     "output_type": "execute_result"
    }
   ],
   "source": [
    "X_train.isnull().sum()"
   ]
  },
  {
   "cell_type": "markdown",
   "metadata": {},
   "source": [
    "# dummy_model"
   ]
  },
  {
   "cell_type": "code",
   "execution_count": 62,
   "metadata": {},
   "outputs": [
    {
     "data": {
      "text/plain": [
       "array([0.86690721, 0.86690721, 0.8669183 , 0.8669183 , 0.8669183 ])"
      ]
     },
     "execution_count": 62,
     "metadata": {},
     "output_type": "execute_result"
    }
   ],
   "source": [
    "dummy_model = DummyClassifier(strategy=\"most_frequent\")\n",
    "dummy_model.fit(X_train, y_train)\n",
    "dummy_model.predict(X_train)[:50]\n",
    "cv_results = cross_val_score(dummy_model, X_train, y_train, cv=5)\n",
    "cv_results"
   ]
  },
  {
   "cell_type": "markdown",
   "metadata": {},
   "source": [
    "# Logistic Model-baseline"
   ]
  },
  {
   "cell_type": "code",
   "execution_count": 67,
   "metadata": {},
   "outputs": [
    {
     "data": {
      "text/plain": [
       "0.8669138664762768"
      ]
     },
     "execution_count": 67,
     "metadata": {},
     "output_type": "execute_result"
    }
   ],
   "source": [
    "X_train_baseline = X_train.select_dtypes(include=['int64','float64'])\n",
    "X_test_baseline = X_test.select_dtypes(include=['int64','float64'])\n",
    "\n",
    "model = LogisticRegression(multi_class='multinomial', solver='lbfgs',max_iter=10000000)\n",
    "model.fit(X_train_baseline,y_train)\n",
    "y_hat = model.predict(X_train_baseline)\n",
    "\n",
    "acc = accuracy_score(y_train,y_hat)\n",
    "acc"
   ]
  },
  {
   "cell_type": "code",
   "execution_count": 69,
   "metadata": {},
   "outputs": [
    {
     "name": "stderr",
     "output_type": "stream",
     "text": [
      "/opt/anaconda3/lib/python3.8/site-packages/sklearn/metrics/_classification.py:1245: UndefinedMetricWarning: Precision is ill-defined and being set to 0.0 in labels with no predicted samples. Use `zero_division` parameter to control this behavior.\n",
      "  _warn_prf(average, modifier, msg_start, len(result))\n"
     ]
    },
    {
     "data": {
      "text/plain": [
       "0.2889712888254256"
      ]
     },
     "execution_count": 69,
     "metadata": {},
     "output_type": "execute_result"
    }
   ],
   "source": [
    "precision_score(y_train, y_hat, average='macro')"
   ]
  },
  {
   "cell_type": "code",
   "execution_count": 70,
   "metadata": {},
   "outputs": [
    {
     "data": {
      "text/plain": [
       "0.8669138664762768"
      ]
     },
     "execution_count": 70,
     "metadata": {},
     "output_type": "execute_result"
    }
   ],
   "source": [
    "precision_score(y_train, y_hat, average='micro')"
   ]
  },
  {
   "cell_type": "code",
   "execution_count": 71,
   "metadata": {},
   "outputs": [
    {
     "name": "stderr",
     "output_type": "stream",
     "text": [
      "/opt/anaconda3/lib/python3.8/site-packages/sklearn/metrics/_classification.py:1245: UndefinedMetricWarning: Precision is ill-defined and being set to 0.0 in labels with no predicted samples. Use `zero_division` parameter to control this behavior.\n",
      "  _warn_prf(average, modifier, msg_start, len(result))\n"
     ]
    },
    {
     "data": {
      "text/plain": [
       "0.7515396518888477"
      ]
     },
     "execution_count": 71,
     "metadata": {},
     "output_type": "execute_result"
    }
   ],
   "source": [
    "precision_score(y_train, y_hat, average='weighted')"
   ]
  },
  {
   "cell_type": "code",
   "execution_count": 89,
   "metadata": {},
   "outputs": [
    {
     "data": {
      "text/plain": [
       "0.3333333333333333"
      ]
     },
     "execution_count": 89,
     "metadata": {},
     "output_type": "execute_result"
    }
   ],
   "source": [
    "recall_score(y_train, y_hat, average='macro')"
   ]
  },
  {
   "cell_type": "code",
   "execution_count": 90,
   "metadata": {},
   "outputs": [
    {
     "data": {
      "text/plain": [
       "0.8669138664762768"
      ]
     },
     "execution_count": 90,
     "metadata": {},
     "output_type": "execute_result"
    }
   ],
   "source": [
    "recall_score(y_train, y_hat, average='micro')"
   ]
  },
  {
   "cell_type": "code",
   "execution_count": 91,
   "metadata": {},
   "outputs": [
    {
     "data": {
      "text/plain": [
       "0.8669138664762768"
      ]
     },
     "execution_count": 91,
     "metadata": {},
     "output_type": "execute_result"
    }
   ],
   "source": [
    "recall_score(y_train, y_hat, average='weighted')"
   ]
  },
  {
   "cell_type": "code",
   "execution_count": 36,
   "metadata": {},
   "outputs": [
    {
     "data": {
      "text/plain": [
       "array([[     0,  10264,      0],\n",
       "       [     0, 338770,      0],\n",
       "       [     0,  41743,      0]])"
      ]
     },
     "execution_count": 36,
     "metadata": {},
     "output_type": "execute_result"
    }
   ],
   "source": [
    "confusion_matrix(y_train, y_hat)"
   ]
  },
  {
   "cell_type": "code",
   "execution_count": null,
   "metadata": {},
   "outputs": [],
   "source": []
  },
  {
   "cell_type": "code",
   "execution_count": 86,
   "metadata": {},
   "outputs": [],
   "source": [
    "categoricals = ['POSTED_SPEED_LIMIT', 'DEVICE_CONDITION',\n",
    "       'WEATHER_CONDITION', 'LIGHTING_CONDITION']\n",
    "\n",
    "train_dummies = X_train[categoricals]\n",
    "#test_dummies = X_test[categoricals]\n",
    "\n",
    "# Create OneHotEncoder object to create dummies\n",
    "ohe = OneHotEncoder(handle_unknown='ignore')\n",
    "# Transform the dataset into dummies matrix\n",
    "\n",
    "enc = ohe.fit(train_dummies)\n",
    "train_dummies_trans = enc.transform(train_dummies)\n",
    "#test_dummies_trans = enc.transform(test_dummies)\n",
    "\n",
    "# Dummies values in matrix form\n",
    "train_data = train_dummies_trans.todense()\n",
    "#test_data = test_dummies_trans.todense()\n",
    "\n",
    "# New dummy column names\n",
    "names = ohe.get_feature_names(categoricals)\n",
    "\n",
    "# Make them into Dataframe\n",
    "train_dummies_trans_df = pd.DataFrame(train_data, columns=names)\n",
    "#test_dummies_trans_df = pd.DataFrame(test_data, columns=names)"
   ]
  },
  {
   "cell_type": "code",
   "execution_count": null,
   "metadata": {},
   "outputs": [],
   "source": [
    "from sklearn import *\n",
    "logreg_model_dummy = LogisticRegression(random_state=2021, penalty='none',max_iter=10000)\n",
    "logreg_model_dummy.fit(train_dummies_trans_df, y_train)\n",
    "y_hat_dummy = model.predict(train_dummies_trans_df)\n",
    "y_hat_dummy\n",
    "# acc = accuracy_score(y_train,train_dummies_trans_df)\n",
    "# acc"
   ]
  },
  {
   "cell_type": "markdown",
   "metadata": {},
   "source": [
    "# Decision Tree"
   ]
  },
  {
   "cell_type": "code",
   "execution_count": 81,
   "metadata": {},
   "outputs": [
    {
     "data": {
      "text/plain": [
       "array(['low risk', 'low risk', 'low risk', ..., 'low risk', 'low risk',\n",
       "       'low risk'], dtype=object)"
      ]
     },
     "execution_count": 81,
     "metadata": {},
     "output_type": "execute_result"
    }
   ],
   "source": [
    "tree_clf = DecisionTreeClassifier(max_depth=2) \n",
    "\n",
    "tree_clf.fit(train_dummies_trans_df, y_train)\n",
    "\n",
    "y_pred_dt = tree_clf.predict(train_dummies_trans_df)\n",
    "y_pred_dt"
   ]
  },
  {
   "cell_type": "code",
   "execution_count": 82,
   "metadata": {},
   "outputs": [
    {
     "name": "stdout",
     "output_type": "stream",
     "text": [
      "Accuracy: 86.69138664762768\n"
     ]
    }
   ],
   "source": [
    "acc = accuracy_score(y_train,y_pred_dt) * 100\n",
    "print(\"Accuracy: {0}\".format(acc))"
   ]
  },
  {
   "cell_type": "code",
   "execution_count": 83,
   "metadata": {},
   "outputs": [
    {
     "name": "stderr",
     "output_type": "stream",
     "text": [
      "/opt/anaconda3/lib/python3.8/site-packages/sklearn/metrics/_classification.py:1245: UndefinedMetricWarning: Precision is ill-defined and being set to 0.0 in labels with no predicted samples. Use `zero_division` parameter to control this behavior.\n",
      "  _warn_prf(average, modifier, msg_start, len(result))\n"
     ]
    },
    {
     "data": {
      "text/plain": [
       "0.2889712888254256"
      ]
     },
     "execution_count": 83,
     "metadata": {},
     "output_type": "execute_result"
    }
   ],
   "source": [
    "precision_score(y_train, y_pred_dt, average='macro')"
   ]
  },
  {
   "cell_type": "code",
   "execution_count": 84,
   "metadata": {},
   "outputs": [
    {
     "data": {
      "text/plain": [
       "0.8669138664762768"
      ]
     },
     "execution_count": 84,
     "metadata": {},
     "output_type": "execute_result"
    }
   ],
   "source": [
    "precision_score(y_train, y_pred_dt, average='micro')"
   ]
  },
  {
   "cell_type": "code",
   "execution_count": 85,
   "metadata": {},
   "outputs": [
    {
     "name": "stderr",
     "output_type": "stream",
     "text": [
      "/opt/anaconda3/lib/python3.8/site-packages/sklearn/metrics/_classification.py:1245: UndefinedMetricWarning: Precision is ill-defined and being set to 0.0 in labels with no predicted samples. Use `zero_division` parameter to control this behavior.\n",
      "  _warn_prf(average, modifier, msg_start, len(result))\n"
     ]
    },
    {
     "data": {
      "text/plain": [
       "0.7515396518888477"
      ]
     },
     "execution_count": 85,
     "metadata": {},
     "output_type": "execute_result"
    }
   ],
   "source": [
    "precision_score(y_train, y_pred_dt, average='weighted')"
   ]
  },
  {
   "cell_type": "code",
   "execution_count": 35,
   "metadata": {},
   "outputs": [
    {
     "data": {
      "image/png": "[encoded data removed]",
      "text/plain": [
       "<Figure size 720x720 with 1 Axes>"
      ]
     },
     "metadata": {
      "needs_background": "light"
     },
     "output_type": "display_data"
    }
   ],
   "source": [
    "f,ax = plt.subplots(figsize=(10,10))\n",
    "plot_tree(tree_clf, ax=ax);"
   ]
  },
  {
   "cell_type": "code",
   "execution_count": null,
   "metadata": {},
   "outputs": [],
   "source": []
  }
 ],
 "metadata": {
  "kernelspec": {
   "display_name": "Python 3",
   "language": "python",
   "name": "python3"
  },
  "language_info": {
   "codemirror_mode": {
    "name": "ipython",
    "version": 3
   },
   "file_extension": ".py",
   "mimetype": "text/x-python",
   "name": "python",
   "nbconvert_exporter": "python",
   "pygments_lexer": "ipython3",
   "version": "3.8.8"
  },
  "toc": {
   "base_numbering": 1,
   "nav_menu": {},
   "number_sections": true,
   "sideBar": true,
   "skip_h1_title": false,
   "title_cell": "Table of Contents",
   "title_sidebar": "TOC",
   "toc_cell": true,
   "toc_position": {
    "height": "calc(100% - 180px)",
    "left": "10px",
    "top": "150px",
    "width": "232px"
   },
   "toc_section_display": true,
   "toc_window_display": true
  }
 },
 "nbformat": 4,
 "nbformat_minor": 4
}
