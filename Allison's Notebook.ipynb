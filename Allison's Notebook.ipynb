{
 "cells": [
  {
   "cell_type": "code",
   "execution_count": 23,
   "metadata": {},
   "outputs": [],
   "source": [
    "import pandas as pd\n",
    "import csv"
   ]
  },
  {
   "cell_type": "code",
   "execution_count": 24,
   "metadata": {},
   "outputs": [
    {
     "name": "stdout",
     "output_type": "stream",
     "text": [
      "Allison's Notebook.ipynb  Final Notebook.ipynb      Raylin's_Notebook.ipynb\r\n",
      "\u001b[34mData\u001b[m\u001b[m/                     README.md                 lorela_nb.ipynb\r\n"
     ]
    }
   ],
   "source": [
    "ls"
   ]
  },
  {
   "cell_type": "code",
   "execution_count": 25,
   "metadata": {},
   "outputs": [],
   "source": [
    "df_crashes = pd.read_csv(\"Data/Traffic_Crashes_-_Crashes.csv\")\n",
    "df_people = pd.read_csv(\"Data/Traffic_Crashes_-_People.csv\")\n",
    "df_vehicles = pd.read_csv(\"Data/Traffic_Crashes_-_Vehicles.csv\")"
   ]
  },
  {
   "cell_type": "code",
   "execution_count": 44,
   "metadata": {},
   "outputs": [
    {
     "name": "stdout",
     "output_type": "stream",
     "text": [
      "<class 'pandas.core.frame.DataFrame'>\n",
      "RangeIndex: 1107267 entries, 0 to 1107266\n",
      "Data columns (total 72 columns):\n",
      " #   Column                    Non-Null Count    Dtype  \n",
      "---  ------                    --------------    -----  \n",
      " 0   CRASH_UNIT_ID             1107267 non-null  int64  \n",
      " 1   CRASH_RECORD_ID           1107267 non-null  object \n",
      " 2   RD_NO                     1097786 non-null  object \n",
      " 3   CRASH_DATE                1107267 non-null  object \n",
      " 4   UNIT_NO                   1107267 non-null  int64  \n",
      " 5   UNIT_TYPE                 1105670 non-null  object \n",
      " 6   NUM_PASSENGERS            165920 non-null   float64\n",
      " 7   VEHICLE_ID                1081934 non-null  float64\n",
      " 8   CMRC_VEH_I                20475 non-null    object \n",
      " 9   MAKE                      1081929 non-null  object \n",
      " 10  MODEL                     1081786 non-null  object \n",
      " 11  LIC_PLATE_STATE           987487 non-null   object \n",
      " 12  VEHICLE_YEAR              905696 non-null   float64\n",
      " 13  VEHICLE_DEFECT            1081934 non-null  object \n",
      " 14  VEHICLE_TYPE              1081934 non-null  object \n",
      " 15  VEHICLE_USE               1081934 non-null  object \n",
      " 16  TRAVEL_DIRECTION          1081934 non-null  object \n",
      " 17  MANEUVER                  1081934 non-null  object \n",
      " 18  TOWED_I                   129495 non-null   object \n",
      " 19  FIRE_I                    852 non-null      object \n",
      " 20  OCCUPANT_CNT              1081934 non-null  float64\n",
      " 21  EXCEED_SPEED_LIMIT_I      2392 non-null     object \n",
      " 22  TOWED_BY                  95272 non-null    object \n",
      " 23  TOWED_TO                  59127 non-null    object \n",
      " 24  AREA_00_I                 41674 non-null    object \n",
      " 25  AREA_01_I                 288768 non-null   object \n",
      " 26  AREA_02_I                 185104 non-null   object \n",
      " 27  AREA_03_I                 104940 non-null   object \n",
      " 28  AREA_04_I                 108915 non-null   object \n",
      " 29  AREA_05_I                 166628 non-null   object \n",
      " 30  AREA_06_I                 168223 non-null   object \n",
      " 31  AREA_07_I                 147128 non-null   object \n",
      " 32  AREA_08_I                 179064 non-null   object \n",
      " 33  AREA_09_I                 52921 non-null    object \n",
      " 34  AREA_10_I                 76171 non-null    object \n",
      " 35  AREA_11_I                 150675 non-null   object \n",
      " 36  AREA_12_I                 148328 non-null   object \n",
      " 37  AREA_99_I                 118504 non-null   object \n",
      " 38  FIRST_CONTACT_POINT       1073691 non-null  object \n",
      " 39  CMV_ID                    11565 non-null    float64\n",
      " 40  USDOT_NO                  6717 non-null     object \n",
      " 41  CCMC_NO                   1474 non-null     object \n",
      " 42  ILCC_NO                   1068 non-null     object \n",
      " 43  COMMERCIAL_SRC            8172 non-null     object \n",
      " 44  GVWR                      6722 non-null     object \n",
      " 45  CARRIER_NAME              11079 non-null    object \n",
      " 46  CARRIER_STATE             10462 non-null    object \n",
      " 47  CARRIER_CITY              10274 non-null    object \n",
      " 48  HAZMAT_PLACARDS_I         235 non-null      object \n",
      " 49  HAZMAT_NAME               45 non-null       object \n",
      " 50  UN_NO                     429 non-null      object \n",
      " 51  HAZMAT_PRESENT_I          8560 non-null     object \n",
      " 52  HAZMAT_REPORT_I           8291 non-null     object \n",
      " 53  HAZMAT_REPORT_NO          1 non-null        object \n",
      " 54  MCS_REPORT_I              8349 non-null     object \n",
      " 55  MCS_REPORT_NO             6 non-null        object \n",
      " 56  HAZMAT_VIO_CAUSE_CRASH_I  8427 non-null     object \n",
      " 57  MCS_VIO_CAUSE_CRASH_I     8286 non-null     object \n",
      " 58  IDOT_PERMIT_NO            679 non-null      object \n",
      " 59  WIDE_LOAD_I               100 non-null      object \n",
      " 60  TRAILER1_WIDTH            2310 non-null     object \n",
      " 61  TRAILER2_WIDTH            264 non-null      object \n",
      " 62  TRAILER1_LENGTH           1907 non-null     float64\n",
      " 63  TRAILER2_LENGTH           50 non-null       float64\n",
      " 64  TOTAL_VEHICLE_LENGTH      2287 non-null     float64\n",
      " 65  AXLE_CNT                  3313 non-null     float64\n",
      " 66  VEHICLE_CONFIG            9641 non-null     object \n",
      " 67  CARGO_BODY_TYPE           9247 non-null     object \n",
      " 68  LOAD_TYPE                 8854 non-null     object \n",
      " 69  HAZMAT_OUT_OF_SERVICE_I   8052 non-null     object \n",
      " 70  MCS_OUT_OF_SERVICE_I      8273 non-null     object \n",
      " 71  HAZMAT_CLASS              799 non-null      object \n",
      "dtypes: float64(9), int64(2), object(61)\n",
      "memory usage: 608.2+ MB\n"
     ]
    }
   ],
   "source": [
    "df_vehicles.info()"
   ]
  },
  {
   "cell_type": "code",
   "execution_count": 43,
   "metadata": {},
   "outputs": [
    {
     "data": {
      "text/plain": [
       "NO INDICATION OF INJURY     1095675\n",
       "NONINCAPACITATING INJURY      55269\n",
       "REPORTED, NOT EVIDENT         32079\n",
       "INCAPACITATING INJURY         10819\n",
       "FATAL                           655\n",
       "Name: INJURY_CLASSIFICATION, dtype: int64"
      ]
     },
     "execution_count": 43,
     "metadata": {},
     "output_type": "execute_result"
    }
   ],
   "source": [
    "df_vehicles[\"INJURY_CLASSIFICATION\"].value_counts()"
   ]
  },
  {
   "cell_type": "code",
   "execution_count": 37,
   "metadata": {},
   "outputs": [],
   "source": [
    "#low = NO INDICATION OF INJURY, reported, not evident \n",
    "#med = NONINCAPACITATING INJURY, \n",
    "#high = INCAPACITATING INJURY  and fatal"
   ]
  },
  {
   "cell_type": "code",
   "execution_count": null,
   "metadata": {},
   "outputs": [],
   "source": []
  }
 ],
 "metadata": {
  "kernelspec": {
   "display_name": "Python 3",
   "language": "python",
   "name": "python3"
  },
  "language_info": {
   "codemirror_mode": {
    "name": "ipython",
    "version": 3
   },
   "file_extension": ".py",
   "mimetype": "text/x-python",
   "name": "python",
   "nbconvert_exporter": "python",
   "pygments_lexer": "ipython3",
   "version": "3.8.8"
  },
  "toc": {
   "base_numbering": 1,
   "nav_menu": {},
   "number_sections": true,
   "sideBar": true,
   "skip_h1_title": false,
   "title_cell": "Table of Contents",
   "title_sidebar": "TOC",
   "toc_cell": true,
   "toc_position": {
    "height": "calc(100% - 180px)",
    "left": "10px",
    "top": "150px",
    "width": "232px"
   },
   "toc_section_display": true,
   "toc_window_display": true
  }
 },
 "nbformat": 4,
 "nbformat_minor": 4
}
