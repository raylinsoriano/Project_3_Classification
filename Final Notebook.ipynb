{
 "cells": [
  {
   "cell_type": "markdown",
   "metadata": {},
   "source": [
    "# Classifying Risk of Injury for Traffic Crashes in the City of Chicago \n",
    "\n",
    "#### Lorela Blaka, Allison Gao, Raylin Soriano"
   ]
  },
  {
   "cell_type": "code",
   "execution_count": 6,
   "metadata": {},
   "outputs": [],
   "source": [
    "import pandas as pd \n",
    "import numpy as np \n",
    "import csv  \n",
    "import matplotlib.pyplot as plt\n",
    "import seaborn as sns\n",
    "import datetime as datetime\n",
    "import datetime\n",
    "%matplotlib inline\n",
    "\n",
    "from sklearn.linear_model import LogisticRegression\n",
    "from sklearn.model_selection import train_test_split\n",
    "from sklearn.metrics import accuracy_score\n",
    "from sklearn.metrics import plot_confusion_matrix\n",
    "from sklearn.tree import DecisionTreeClassifier, plot_tree\n",
    "from sklearn.preprocessing import OneHotEncoder, StandardScaler\n",
    "from sklearn.metrics import confusion_matrix\n",
    "from sklearn.dummy import DummyClassifier\n",
    "from sklearn.model_selection import train_test_split, cross_val_score\n",
    "from sklearn.metrics import plot_roc_curve\n",
    "\n",
    "from sklearn.metrics import confusion_matrix, plot_confusion_matrix,\\\n",
    "    precision_score, recall_score, accuracy_score, f1_score, log_loss,\\\n",
    "    roc_curve, roc_auc_score, classification_report"
   ]
  },
  {
   "cell_type": "code",
   "execution_count": 7,
   "metadata": {},
   "outputs": [],
   "source": [
    "df = pd.read_csv(\"Data/merged_df.csv\")"
   ]
  },
  {
   "cell_type": "code",
   "execution_count": 8,
   "metadata": {},
   "outputs": [
    {
     "name": "stdout",
     "output_type": "stream",
     "text": [
      "<class 'pandas.core.frame.DataFrame'>\n",
      "RangeIndex: 558254 entries, 0 to 558253\n",
      "Data columns (total 31 columns):\n",
      " #   Column                   Non-Null Count   Dtype  \n",
      "---  ------                   --------------   -----  \n",
      " 0   Unnamed: 0               558254 non-null  int64  \n",
      " 1   CRASH_RECORD_ID          558254 non-null  object \n",
      " 2   CRASH_DATE               558254 non-null  object \n",
      " 3   POSTED_SPEED_LIMIT       558254 non-null  int64  \n",
      " 4   DEVICE_CONDITION         558254 non-null  object \n",
      " 5   WEATHER_CONDITION        558254 non-null  object \n",
      " 6   LIGHTING_CONDITION       558254 non-null  object \n",
      " 7   FIRST_CRASH_TYPE         558254 non-null  object \n",
      " 8   ROADWAY_SURFACE_COND     558254 non-null  object \n",
      " 9   ROAD_DEFECT              558254 non-null  object \n",
      " 10  CRASH_TYPE               558254 non-null  object \n",
      " 11  DAMAGE                   558254 non-null  object \n",
      " 12  PRIM_CONTRIBUTORY_CAUSE  558254 non-null  object \n",
      " 13  SEC_CONTRIBUTORY_CAUSE   558254 non-null  object \n",
      " 14  MOST_SEVERE_INJURY       558254 non-null  object \n",
      " 15  CRASH_HOUR               558254 non-null  int64  \n",
      " 16  CRASH_DAY_OF_WEEK        558254 non-null  int64  \n",
      " 17  CRASH_MONTH              558254 non-null  int64  \n",
      " 18  LATITUDE                 554046 non-null  float64\n",
      " 19  LONGITUDE                554046 non-null  float64\n",
      " 20  PERSON_ID                558254 non-null  object \n",
      " 21  PERSON_TYPE              558254 non-null  object \n",
      " 22  SEX                      548823 non-null  object \n",
      " 23  SAFETY_EQUIPMENT         556047 non-null  object \n",
      " 24  AIRBAG_DEPLOYED          545946 non-null  object \n",
      " 25  EJECTION                 549909 non-null  object \n",
      " 26  VEHICLE_DEFECT           543364 non-null  object \n",
      " 27  VEHICLE_TYPE             543364 non-null  object \n",
      " 28  VEHICLE_USE              543364 non-null  object \n",
      " 29  MANEUVER                 543364 non-null  object \n",
      " 30  FIRST_CONTACT_POINT      537722 non-null  object \n",
      "dtypes: float64(2), int64(5), object(24)\n",
      "memory usage: 132.0+ MB\n"
     ]
    }
   ],
   "source": [
    "df.info()"
   ]
  },
  {
   "cell_type": "code",
   "execution_count": null,
   "metadata": {},
   "outputs": [],
   "source": []
  }
 ],
 "metadata": {
  "kernelspec": {
   "display_name": "Python 3",
   "language": "python",
   "name": "python3"
  },
  "language_info": {
   "codemirror_mode": {
    "name": "ipython",
    "version": 3
   },
   "file_extension": ".py",
   "mimetype": "text/x-python",
   "name": "python",
   "nbconvert_exporter": "python",
   "pygments_lexer": "ipython3",
   "version": "3.8.8"
  },
  "toc": {
   "base_numbering": 1,
   "nav_menu": {},
   "number_sections": true,
   "sideBar": true,
   "skip_h1_title": false,
   "title_cell": "Table of Contents",
   "title_sidebar": "TOC",
   "toc_cell": true,
   "toc_position": {
    "height": "calc(100% - 180px)",
    "left": "10px",
    "top": "150px",
    "width": "232px"
   },
   "toc_section_display": true,
   "toc_window_display": true
  }
 },
 "nbformat": 4,
 "nbformat_minor": 4
}
